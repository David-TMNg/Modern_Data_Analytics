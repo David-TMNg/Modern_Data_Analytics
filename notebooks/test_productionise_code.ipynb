{
 "cells": [
  {
   "cell_type": "code",
   "execution_count": 1,
   "id": "99a5f5e9",
   "metadata": {},
   "outputs": [
    {
     "name": "stderr",
     "output_type": "stream",
     "text": [
      "/Users/davidng/Documents/David/KU Leuven/Modern_Data_Analytics/repos/Modern_Data_Analytics/venv/lib/python3.11/site-packages/tqdm/auto.py:21: TqdmWarning: IProgress not found. Please update jupyter and ipywidgets. See https://ipywidgets.readthedocs.io/en/stable/user_install.html\n",
      "  from .autonotebook import tqdm as notebook_tqdm\n"
     ]
    }
   ],
   "source": [
    "from modern_data_analytics.recommender import Recommender\n",
    "import numpy as np\n",
    "import pandas as pd"
   ]
  },
  {
   "cell_type": "code",
   "execution_count": 2,
   "id": "64531c0d",
   "metadata": {},
   "outputs": [],
   "source": [
    "project_ids = pd.read_pickle(\"../src/modern_data_analytics/models/project_ids.pkl\")\n"
   ]
  },
  {
   "cell_type": "code",
   "execution_count": 3,
   "id": "390a60c6",
   "metadata": {},
   "outputs": [],
   "source": [
    "recommender = Recommender()"
   ]
  },
  {
   "cell_type": "code",
   "execution_count": 4,
   "id": "fdf495ae",
   "metadata": {},
   "outputs": [],
   "source": [
    "recommender.load_pretrained_project_embeddings(project_ids=project_ids, project_embeddings_path=\"../src/modern_data_analytics/models/project_embeddings.npy\")"
   ]
  },
  {
   "cell_type": "code",
   "execution_count": 6,
   "id": "ab5ab3b5",
   "metadata": {},
   "outputs": [
    {
     "data": {
      "text/plain": [
       "[(101077076, 0.5242384672164917),\n",
       " (101054647, 0.49831756949424744),\n",
       " (101106810, 0.48910629749298096),\n",
       " (101149179, 0.48871049284935),\n",
       " (101063876, 0.4861825108528137),\n",
       " (101132692, 0.45997393131256104),\n",
       " (101054963, 0.4587676525115967),\n",
       " (101054428, 0.44388481974601746),\n",
       " (101149227, 0.43619057536125183),\n",
       " (101089123, 0.4345673620700836)]"
      ]
     },
     "execution_count": 6,
     "metadata": {},
     "output_type": "execute_result"
    }
   ],
   "source": [
    "recommender.get_top_matches(proposal_text=\"war in the balkans\", top_n=10)"
   ]
  },
  {
   "cell_type": "code",
   "execution_count": null,
   "id": "7ed36139",
   "metadata": {},
   "outputs": [],
   "source": []
  }
 ],
 "metadata": {
  "kernelspec": {
   "display_name": "venv",
   "language": "python",
   "name": "python3"
  },
  "language_info": {
   "codemirror_mode": {
    "name": "ipython",
    "version": 3
   },
   "file_extension": ".py",
   "mimetype": "text/x-python",
   "name": "python",
   "nbconvert_exporter": "python",
   "pygments_lexer": "ipython3",
   "version": "3.11.12"
  }
 },
 "nbformat": 4,
 "nbformat_minor": 5
}
