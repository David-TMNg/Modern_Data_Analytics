{
 "cells": [
  {
   "cell_type": "markdown",
   "id": "06a905bd",
   "metadata": {},
   "source": [
    "# Horizon Funding Data"
   ]
  },
  {
   "cell_type": "markdown",
   "id": "83d2795d",
   "metadata": {},
   "source": [
    "## Load packages & Data sets"
   ]
  },
  {
   "cell_type": "markdown",
   "id": "bd77f2fd",
   "metadata": {},
   "source": [
    "### Packages"
   ]
  },
  {
   "cell_type": "code",
   "execution_count": 1,
   "id": "0e413359",
   "metadata": {},
   "outputs": [],
   "source": [
    "import pandas as pd\n",
    "import numpy as np\n",
    "import matplotlib.pyplot as plt\n",
    "import seaborn as sns\n",
    "\n",
    "from collections import defaultdict\n",
    "\n",
    "from sklearn.preprocessing import StandardScaler, OneHotEncoder\n",
    "from sklearn.impute import SimpleImputer\n",
    "from sklearn.compose import ColumnTransformer\n",
    "from sklearn.pipeline import Pipeline\n",
    "from sklearn.decomposition import PCA\n",
    "from sklearn.cluster import KMeans\n",
    "\n",
    "from sentence_transformers import SentenceTransformer\n",
    "from sklearn.metrics.pairwise import cosine_similarity\n",
    "\n",
    "from sklearn.feature_extraction.text import TfidfVectorizer\n",
    "from sklearn.multioutput import MultiOutputClassifier\n",
    "from sklearn.linear_model import LogisticRegression\n",
    "from sklearn.preprocessing import MultiLabelBinarizer\n",
    "\n",
    "import pickle\n",
    "\n",
    "\n",
    "import plotly.express as px"
   ]
  },
  {
   "cell_type": "markdown",
   "id": "ff30265d",
   "metadata": {},
   "source": [
    "### Project Data:"
   ]
  },
  {
   "cell_type": "code",
   "execution_count": 2,
   "id": "beac3a22",
   "metadata": {},
   "outputs": [
    {
     "name": "stdout",
     "output_type": "stream",
     "text": [
      "(15341, 20)\n"
     ]
    },
    {
     "data": {
      "text/html": [
       "<div>\n",
       "<style scoped>\n",
       "    .dataframe tbody tr th:only-of-type {\n",
       "        vertical-align: middle;\n",
       "    }\n",
       "\n",
       "    .dataframe tbody tr th {\n",
       "        vertical-align: top;\n",
       "    }\n",
       "\n",
       "    .dataframe thead th {\n",
       "        text-align: right;\n",
       "    }\n",
       "</style>\n",
       "<table border=\"1\" class=\"dataframe\">\n",
       "  <thead>\n",
       "    <tr style=\"text-align: right;\">\n",
       "      <th></th>\n",
       "      <th>id</th>\n",
       "      <th>acronym</th>\n",
       "      <th>status</th>\n",
       "      <th>title</th>\n",
       "      <th>startDate</th>\n",
       "      <th>endDate</th>\n",
       "      <th>totalCost</th>\n",
       "      <th>ecMaxContribution</th>\n",
       "      <th>legalBasis</th>\n",
       "      <th>topics</th>\n",
       "      <th>ecSignatureDate</th>\n",
       "      <th>frameworkProgramme</th>\n",
       "      <th>masterCall</th>\n",
       "      <th>subCall</th>\n",
       "      <th>fundingScheme</th>\n",
       "      <th>nature</th>\n",
       "      <th>objective</th>\n",
       "      <th>contentUpdateDate</th>\n",
       "      <th>rcn</th>\n",
       "      <th>grantDoi</th>\n",
       "    </tr>\n",
       "  </thead>\n",
       "  <tbody>\n",
       "    <tr>\n",
       "      <th>0</th>\n",
       "      <td>101116741</td>\n",
       "      <td>DOE</td>\n",
       "      <td>SIGNED</td>\n",
       "      <td>Digitizing Other Economies: A Comparative Appr...</td>\n",
       "      <td>2024-02-01</td>\n",
       "      <td>2029-01-31</td>\n",
       "      <td>1499998</td>\n",
       "      <td>1499998</td>\n",
       "      <td>HORIZON.1.1</td>\n",
       "      <td>ERC-2023-STG</td>\n",
       "      <td>2023-12-15</td>\n",
       "      <td>HORIZON</td>\n",
       "      <td>ERC-2023-STG</td>\n",
       "      <td>ERC-2023-STG</td>\n",
       "      <td>HORIZON-ERC</td>\n",
       "      <td>NaN</td>\n",
       "      <td>How do longstanding, primarily non-industrial,...</td>\n",
       "      <td>2023-12-26 14:40:12</td>\n",
       "      <td>259247</td>\n",
       "      <td>10.3030/101116741</td>\n",
       "    </tr>\n",
       "    <tr>\n",
       "      <th>1</th>\n",
       "      <td>101163161</td>\n",
       "      <td>IRASTRO</td>\n",
       "      <td>SIGNED</td>\n",
       "      <td>MOLECULAR QUANTUM DYNAMICS IN LOW TEMPERATURE ...</td>\n",
       "      <td>2025-08-01</td>\n",
       "      <td>2031-07-31</td>\n",
       "      <td>12085363</td>\n",
       "      <td>12085363</td>\n",
       "      <td>HORIZON.1.1</td>\n",
       "      <td>ERC-2024-SyG</td>\n",
       "      <td>2025-02-20</td>\n",
       "      <td>HORIZON</td>\n",
       "      <td>ERC-2024-SyG</td>\n",
       "      <td>ERC-2024-SyG</td>\n",
       "      <td>HORIZON-ERC-SYG</td>\n",
       "      <td>NaN</td>\n",
       "      <td>The James Webb Space Telescope (JWST) has ushe...</td>\n",
       "      <td>2025-02-24 17:23:14</td>\n",
       "      <td>268970</td>\n",
       "      <td>10.3030/101163161</td>\n",
       "    </tr>\n",
       "    <tr>\n",
       "      <th>2</th>\n",
       "      <td>101160499</td>\n",
       "      <td>In-phase</td>\n",
       "      <td>SIGNED</td>\n",
       "      <td>Multiscale modelling of aberrant phase transit...</td>\n",
       "      <td>2025-06-01</td>\n",
       "      <td>2030-05-31</td>\n",
       "      <td>1489128</td>\n",
       "      <td>1489128</td>\n",
       "      <td>HORIZON.1.1</td>\n",
       "      <td>ERC-2024-STG</td>\n",
       "      <td>2025-02-19</td>\n",
       "      <td>HORIZON</td>\n",
       "      <td>ERC-2024-STG</td>\n",
       "      <td>ERC-2024-STG</td>\n",
       "      <td>HORIZON-ERC</td>\n",
       "      <td>NaN</td>\n",
       "      <td>The spatiotemporal organization of the cell ma...</td>\n",
       "      <td>2025-02-24 17:23:11</td>\n",
       "      <td>268969</td>\n",
       "      <td>10.3030/101160499</td>\n",
       "    </tr>\n",
       "    <tr>\n",
       "      <th>3</th>\n",
       "      <td>101166905</td>\n",
       "      <td>mw-atlas</td>\n",
       "      <td>SIGNED</td>\n",
       "      <td>The first comprehensive Atlas of the Milky Way</td>\n",
       "      <td>2025-05-01</td>\n",
       "      <td>2031-04-30</td>\n",
       "      <td>9957560</td>\n",
       "      <td>9957560</td>\n",
       "      <td>HORIZON.1.1</td>\n",
       "      <td>ERC-2024-SyG</td>\n",
       "      <td>2025-02-20</td>\n",
       "      <td>HORIZON</td>\n",
       "      <td>ERC-2024-SyG</td>\n",
       "      <td>ERC-2024-SyG</td>\n",
       "      <td>HORIZON-ERC-SYG</td>\n",
       "      <td>NaN</td>\n",
       "      <td>The Milky Way is the cosmic environment in whi...</td>\n",
       "      <td>2025-02-24 17:23:01</td>\n",
       "      <td>268971</td>\n",
       "      <td>10.3030/101166905</td>\n",
       "    </tr>\n",
       "    <tr>\n",
       "      <th>4</th>\n",
       "      <td>101162875</td>\n",
       "      <td>MAtCHLESS</td>\n",
       "      <td>SIGNED</td>\n",
       "      <td>Untapping multiparametric 2D luminescence sens...</td>\n",
       "      <td>2025-03-01</td>\n",
       "      <td>2030-02-28</td>\n",
       "      <td>1500000</td>\n",
       "      <td>1500000</td>\n",
       "      <td>HORIZON.1.1</td>\n",
       "      <td>ERC-2024-STG</td>\n",
       "      <td>2025-02-18</td>\n",
       "      <td>HORIZON</td>\n",
       "      <td>ERC-2024-STG</td>\n",
       "      <td>ERC-2024-STG</td>\n",
       "      <td>HORIZON-ERC</td>\n",
       "      <td>NaN</td>\n",
       "      <td>Cellular organisms are complex machines whose ...</td>\n",
       "      <td>2025-02-24 17:23:12</td>\n",
       "      <td>268966</td>\n",
       "      <td>10.3030/101162875</td>\n",
       "    </tr>\n",
       "  </tbody>\n",
       "</table>\n",
       "</div>"
      ],
      "text/plain": [
       "          id    acronym  status  \\\n",
       "0  101116741        DOE  SIGNED   \n",
       "1  101163161    IRASTRO  SIGNED   \n",
       "2  101160499   In-phase  SIGNED   \n",
       "3  101166905   mw-atlas  SIGNED   \n",
       "4  101162875  MAtCHLESS  SIGNED   \n",
       "\n",
       "                                               title   startDate     endDate  \\\n",
       "0  Digitizing Other Economies: A Comparative Appr...  2024-02-01  2029-01-31   \n",
       "1  MOLECULAR QUANTUM DYNAMICS IN LOW TEMPERATURE ...  2025-08-01  2031-07-31   \n",
       "2  Multiscale modelling of aberrant phase transit...  2025-06-01  2030-05-31   \n",
       "3     The first comprehensive Atlas of the Milky Way  2025-05-01  2031-04-30   \n",
       "4  Untapping multiparametric 2D luminescence sens...  2025-03-01  2030-02-28   \n",
       "\n",
       "  totalCost ecMaxContribution   legalBasis        topics ecSignatureDate  \\\n",
       "0   1499998           1499998  HORIZON.1.1  ERC-2023-STG      2023-12-15   \n",
       "1  12085363          12085363  HORIZON.1.1  ERC-2024-SyG      2025-02-20   \n",
       "2   1489128           1489128  HORIZON.1.1  ERC-2024-STG      2025-02-19   \n",
       "3   9957560           9957560  HORIZON.1.1  ERC-2024-SyG      2025-02-20   \n",
       "4   1500000           1500000  HORIZON.1.1  ERC-2024-STG      2025-02-18   \n",
       "\n",
       "  frameworkProgramme    masterCall       subCall    fundingScheme  nature  \\\n",
       "0            HORIZON  ERC-2023-STG  ERC-2023-STG      HORIZON-ERC     NaN   \n",
       "1            HORIZON  ERC-2024-SyG  ERC-2024-SyG  HORIZON-ERC-SYG     NaN   \n",
       "2            HORIZON  ERC-2024-STG  ERC-2024-STG      HORIZON-ERC     NaN   \n",
       "3            HORIZON  ERC-2024-SyG  ERC-2024-SyG  HORIZON-ERC-SYG     NaN   \n",
       "4            HORIZON  ERC-2024-STG  ERC-2024-STG      HORIZON-ERC     NaN   \n",
       "\n",
       "                                           objective    contentUpdateDate  \\\n",
       "0  How do longstanding, primarily non-industrial,...  2023-12-26 14:40:12   \n",
       "1  The James Webb Space Telescope (JWST) has ushe...  2025-02-24 17:23:14   \n",
       "2  The spatiotemporal organization of the cell ma...  2025-02-24 17:23:11   \n",
       "3  The Milky Way is the cosmic environment in whi...  2025-02-24 17:23:01   \n",
       "4  Cellular organisms are complex machines whose ...  2025-02-24 17:23:12   \n",
       "\n",
       "      rcn           grantDoi  \n",
       "0  259247  10.3030/101116741  \n",
       "1  268970  10.3030/101163161  \n",
       "2  268969  10.3030/101160499  \n",
       "3  268971  10.3030/101166905  \n",
       "4  268966  10.3030/101162875  "
      ]
     },
     "execution_count": 2,
     "metadata": {},
     "output_type": "execute_result"
    }
   ],
   "source": [
    "project = pd.read_csv(\"../data_1/raw/project.csv\")\n",
    "\n",
    "# Overview\n",
    "print(project.shape)\n",
    "project.head()"
   ]
  },
  {
   "cell_type": "markdown",
   "id": "dadf0494",
   "metadata": {},
   "source": [
    "### Organisation Data:"
   ]
  },
  {
   "cell_type": "code",
   "execution_count": 3,
   "id": "a0b2d2c6",
   "metadata": {},
   "outputs": [
    {
     "name": "stdout",
     "output_type": "stream",
     "text": [
      "(100249, 25)\n"
     ]
    },
    {
     "data": {
      "text/html": [
       "<div>\n",
       "<style scoped>\n",
       "    .dataframe tbody tr th:only-of-type {\n",
       "        vertical-align: middle;\n",
       "    }\n",
       "\n",
       "    .dataframe tbody tr th {\n",
       "        vertical-align: top;\n",
       "    }\n",
       "\n",
       "    .dataframe thead th {\n",
       "        text-align: right;\n",
       "    }\n",
       "</style>\n",
       "<table border=\"1\" class=\"dataframe\">\n",
       "  <thead>\n",
       "    <tr style=\"text-align: right;\">\n",
       "      <th></th>\n",
       "      <th>projectID</th>\n",
       "      <th>projectAcronym</th>\n",
       "      <th>organisationID</th>\n",
       "      <th>vatNumber</th>\n",
       "      <th>name</th>\n",
       "      <th>shortName</th>\n",
       "      <th>SME</th>\n",
       "      <th>activityType</th>\n",
       "      <th>street</th>\n",
       "      <th>postCode</th>\n",
       "      <th>...</th>\n",
       "      <th>contactForm</th>\n",
       "      <th>contentUpdateDate</th>\n",
       "      <th>rcn</th>\n",
       "      <th>order</th>\n",
       "      <th>role</th>\n",
       "      <th>ecContribution</th>\n",
       "      <th>netEcContribution</th>\n",
       "      <th>totalCost</th>\n",
       "      <th>endOfParticipation</th>\n",
       "      <th>active</th>\n",
       "    </tr>\n",
       "  </thead>\n",
       "  <tbody>\n",
       "    <tr>\n",
       "      <th>0</th>\n",
       "      <td>101116741</td>\n",
       "      <td>DOE</td>\n",
       "      <td>999981634</td>\n",
       "      <td>NL811383696B01</td>\n",
       "      <td>WAGENINGEN UNIVERSITY</td>\n",
       "      <td>WU</td>\n",
       "      <td>False</td>\n",
       "      <td>HES</td>\n",
       "      <td>DROEVENDAALSESTEEG 4</td>\n",
       "      <td>6708 PB</td>\n",
       "      <td>...</td>\n",
       "      <td>https://ec.europa.eu/info/funding-tenders/oppo...</td>\n",
       "      <td>2023-12-26 14:40:12</td>\n",
       "      <td>1906458</td>\n",
       "      <td>1</td>\n",
       "      <td>coordinator</td>\n",
       "      <td>1499998.0</td>\n",
       "      <td>1499998.0</td>\n",
       "      <td>1499998</td>\n",
       "      <td>False</td>\n",
       "      <td>NaN</td>\n",
       "    </tr>\n",
       "    <tr>\n",
       "      <th>1</th>\n",
       "      <td>101163161</td>\n",
       "      <td>IRASTRO</td>\n",
       "      <td>999997736</td>\n",
       "      <td>DK31119103</td>\n",
       "      <td>AARHUS UNIVERSITET</td>\n",
       "      <td>AU</td>\n",
       "      <td>False</td>\n",
       "      <td>HES</td>\n",
       "      <td>NORDRE RINGGADE 1</td>\n",
       "      <td>8000</td>\n",
       "      <td>...</td>\n",
       "      <td>https://ec.europa.eu/info/funding-tenders/oppo...</td>\n",
       "      <td>2025-02-24 17:23:14</td>\n",
       "      <td>1905956</td>\n",
       "      <td>2</td>\n",
       "      <td>participant</td>\n",
       "      <td>4246240.0</td>\n",
       "      <td>4246240.0</td>\n",
       "      <td>4246240</td>\n",
       "      <td>False</td>\n",
       "      <td>NaN</td>\n",
       "    </tr>\n",
       "    <tr>\n",
       "      <th>2</th>\n",
       "      <td>101163161</td>\n",
       "      <td>IRASTRO</td>\n",
       "      <td>999854855</td>\n",
       "      <td>DE138408327</td>\n",
       "      <td>UNIVERSITAET POTSDAM</td>\n",
       "      <td>UP</td>\n",
       "      <td>False</td>\n",
       "      <td>HES</td>\n",
       "      <td>AM NEUEN PALAIS  10</td>\n",
       "      <td>14469</td>\n",
       "      <td>...</td>\n",
       "      <td>https://ec.europa.eu/info/funding-tenders/oppo...</td>\n",
       "      <td>2025-02-24 17:23:14</td>\n",
       "      <td>1908936</td>\n",
       "      <td>3</td>\n",
       "      <td>participant</td>\n",
       "      <td>1982813.0</td>\n",
       "      <td>1982813.0</td>\n",
       "      <td>1982813</td>\n",
       "      <td>False</td>\n",
       "      <td>NaN</td>\n",
       "    </tr>\n",
       "    <tr>\n",
       "      <th>3</th>\n",
       "      <td>101163161</td>\n",
       "      <td>IRASTRO</td>\n",
       "      <td>999990267</td>\n",
       "      <td>DE129517720</td>\n",
       "      <td>MAX-PLANCK-GESELLSCHAFT ZUR FORDERUNG DER WISS...</td>\n",
       "      <td>MPG</td>\n",
       "      <td>False</td>\n",
       "      <td>REC</td>\n",
       "      <td>HOFGARTENSTRASSE 8</td>\n",
       "      <td>80539</td>\n",
       "      <td>...</td>\n",
       "      <td>https://ec.europa.eu/info/funding-tenders/oppo...</td>\n",
       "      <td>2025-02-24 17:23:14</td>\n",
       "      <td>1949732</td>\n",
       "      <td>1</td>\n",
       "      <td>coordinator</td>\n",
       "      <td>5856310.0</td>\n",
       "      <td>5856310.0</td>\n",
       "      <td>5856310</td>\n",
       "      <td>False</td>\n",
       "      <td>NaN</td>\n",
       "    </tr>\n",
       "    <tr>\n",
       "      <th>4</th>\n",
       "      <td>101160499</td>\n",
       "      <td>In-phase</td>\n",
       "      <td>999874546</td>\n",
       "      <td>ESQ2818014I</td>\n",
       "      <td>UNIVERSIDAD COMPLUTENSE DE MADRID</td>\n",
       "      <td>UCM</td>\n",
       "      <td>False</td>\n",
       "      <td>HES</td>\n",
       "      <td>AVENIDA DE SENECA 2</td>\n",
       "      <td>28040</td>\n",
       "      <td>...</td>\n",
       "      <td>https://ec.europa.eu/info/funding-tenders/oppo...</td>\n",
       "      <td>2025-02-24 17:23:11</td>\n",
       "      <td>1906229</td>\n",
       "      <td>1</td>\n",
       "      <td>coordinator</td>\n",
       "      <td>1489128.0</td>\n",
       "      <td>1489128.0</td>\n",
       "      <td>1489128</td>\n",
       "      <td>False</td>\n",
       "      <td>NaN</td>\n",
       "    </tr>\n",
       "  </tbody>\n",
       "</table>\n",
       "<p>5 rows × 25 columns</p>\n",
       "</div>"
      ],
      "text/plain": [
       "   projectID projectAcronym  organisationID       vatNumber  \\\n",
       "0  101116741            DOE       999981634  NL811383696B01   \n",
       "1  101163161        IRASTRO       999997736      DK31119103   \n",
       "2  101163161        IRASTRO       999854855     DE138408327   \n",
       "3  101163161        IRASTRO       999990267     DE129517720   \n",
       "4  101160499       In-phase       999874546     ESQ2818014I   \n",
       "\n",
       "                                                name shortName    SME  \\\n",
       "0                              WAGENINGEN UNIVERSITY        WU  False   \n",
       "1                                 AARHUS UNIVERSITET        AU  False   \n",
       "2                               UNIVERSITAET POTSDAM        UP  False   \n",
       "3  MAX-PLANCK-GESELLSCHAFT ZUR FORDERUNG DER WISS...       MPG  False   \n",
       "4                  UNIVERSIDAD COMPLUTENSE DE MADRID       UCM  False   \n",
       "\n",
       "  activityType                street postCode  ...  \\\n",
       "0          HES  DROEVENDAALSESTEEG 4  6708 PB  ...   \n",
       "1          HES     NORDRE RINGGADE 1     8000  ...   \n",
       "2          HES   AM NEUEN PALAIS  10    14469  ...   \n",
       "3          REC    HOFGARTENSTRASSE 8    80539  ...   \n",
       "4          HES   AVENIDA DE SENECA 2    28040  ...   \n",
       "\n",
       "                                         contactForm    contentUpdateDate  \\\n",
       "0  https://ec.europa.eu/info/funding-tenders/oppo...  2023-12-26 14:40:12   \n",
       "1  https://ec.europa.eu/info/funding-tenders/oppo...  2025-02-24 17:23:14   \n",
       "2  https://ec.europa.eu/info/funding-tenders/oppo...  2025-02-24 17:23:14   \n",
       "3  https://ec.europa.eu/info/funding-tenders/oppo...  2025-02-24 17:23:14   \n",
       "4  https://ec.europa.eu/info/funding-tenders/oppo...  2025-02-24 17:23:11   \n",
       "\n",
       "       rcn order         role ecContribution netEcContribution  totalCost  \\\n",
       "0  1906458     1  coordinator      1499998.0         1499998.0    1499998   \n",
       "1  1905956     2  participant      4246240.0         4246240.0    4246240   \n",
       "2  1908936     3  participant      1982813.0         1982813.0    1982813   \n",
       "3  1949732     1  coordinator      5856310.0         5856310.0    5856310   \n",
       "4  1906229     1  coordinator      1489128.0         1489128.0    1489128   \n",
       "\n",
       "   endOfParticipation active  \n",
       "0               False    NaN  \n",
       "1               False    NaN  \n",
       "2               False    NaN  \n",
       "3               False    NaN  \n",
       "4               False    NaN  \n",
       "\n",
       "[5 rows x 25 columns]"
      ]
     },
     "execution_count": 3,
     "metadata": {},
     "output_type": "execute_result"
    }
   ],
   "source": [
    "org = pd.read_csv(\"../data_1/raw/organization.csv\")\n",
    "\n",
    "# Overview\n",
    "print(org.shape)\n",
    "org.head()"
   ]
  },
  {
   "cell_type": "markdown",
   "id": "d578e154",
   "metadata": {},
   "source": [
    "### euroSciVoc Data"
   ]
  },
  {
   "cell_type": "code",
   "execution_count": 4,
   "id": "0690baa0",
   "metadata": {},
   "outputs": [
    {
     "name": "stdout",
     "output_type": "stream",
     "text": [
      "(38789, 5)\n"
     ]
    },
    {
     "data": {
      "text/html": [
       "<div>\n",
       "<style scoped>\n",
       "    .dataframe tbody tr th:only-of-type {\n",
       "        vertical-align: middle;\n",
       "    }\n",
       "\n",
       "    .dataframe tbody tr th {\n",
       "        vertical-align: top;\n",
       "    }\n",
       "\n",
       "    .dataframe thead th {\n",
       "        text-align: right;\n",
       "    }\n",
       "</style>\n",
       "<table border=\"1\" class=\"dataframe\">\n",
       "  <thead>\n",
       "    <tr style=\"text-align: right;\">\n",
       "      <th></th>\n",
       "      <th>projectID</th>\n",
       "      <th>euroSciVocCode</th>\n",
       "      <th>euroSciVocPath</th>\n",
       "      <th>euroSciVocTitle</th>\n",
       "      <th>euroSciVocDescription</th>\n",
       "    </tr>\n",
       "  </thead>\n",
       "  <tbody>\n",
       "    <tr>\n",
       "      <th>0</th>\n",
       "      <td>101116741</td>\n",
       "      <td>/29/97/543</td>\n",
       "      <td>/social sciences/political sciences/government...</td>\n",
       "      <td>government systems</td>\n",
       "      <td>NaN</td>\n",
       "    </tr>\n",
       "    <tr>\n",
       "      <th>1</th>\n",
       "      <td>101163161</td>\n",
       "      <td>/27/81/30021/30833628</td>\n",
       "      <td>/agricultural sciences/agriculture, forestry, ...</td>\n",
       "      <td>grains and oilseeds</td>\n",
       "      <td>NaN</td>\n",
       "    </tr>\n",
       "    <tr>\n",
       "      <th>2</th>\n",
       "      <td>101163161</td>\n",
       "      <td>/23/43/251/48354418</td>\n",
       "      <td>/natural sciences/physical sciences/optics/mic...</td>\n",
       "      <td>microscopy</td>\n",
       "      <td>NaN</td>\n",
       "    </tr>\n",
       "    <tr>\n",
       "      <th>3</th>\n",
       "      <td>101163161</td>\n",
       "      <td>/23/43/257/761</td>\n",
       "      <td>/natural sciences/physical sciences/astronomy/...</td>\n",
       "      <td>astrochemistry</td>\n",
       "      <td>NaN</td>\n",
       "    </tr>\n",
       "    <tr>\n",
       "      <th>4</th>\n",
       "      <td>101163161</td>\n",
       "      <td>/29/89</td>\n",
       "      <td>/social sciences/law</td>\n",
       "      <td>law</td>\n",
       "      <td>NaN</td>\n",
       "    </tr>\n",
       "  </tbody>\n",
       "</table>\n",
       "</div>"
      ],
      "text/plain": [
       "   projectID         euroSciVocCode  \\\n",
       "0  101116741             /29/97/543   \n",
       "1  101163161  /27/81/30021/30833628   \n",
       "2  101163161    /23/43/251/48354418   \n",
       "3  101163161         /23/43/257/761   \n",
       "4  101163161                 /29/89   \n",
       "\n",
       "                                      euroSciVocPath      euroSciVocTitle  \\\n",
       "0  /social sciences/political sciences/government...   government systems   \n",
       "1  /agricultural sciences/agriculture, forestry, ...  grains and oilseeds   \n",
       "2  /natural sciences/physical sciences/optics/mic...           microscopy   \n",
       "3  /natural sciences/physical sciences/astronomy/...       astrochemistry   \n",
       "4                               /social sciences/law                  law   \n",
       "\n",
       "   euroSciVocDescription  \n",
       "0                    NaN  \n",
       "1                    NaN  \n",
       "2                    NaN  \n",
       "3                    NaN  \n",
       "4                    NaN  "
      ]
     },
     "execution_count": 4,
     "metadata": {},
     "output_type": "execute_result"
    }
   ],
   "source": [
    "scivoc = pd.read_csv(\"../data_1/raw/euroSciVoc.csv\")\n",
    "\n",
    "# Overview\n",
    "print(scivoc.shape)\n",
    "scivoc.head()"
   ]
  },
  {
   "cell_type": "markdown",
   "id": "e807bd2c",
   "metadata": {},
   "source": [
    "### Topics"
   ]
  },
  {
   "cell_type": "code",
   "execution_count": 53,
   "id": "0fcf74e0",
   "metadata": {},
   "outputs": [
    {
     "name": "stdout",
     "output_type": "stream",
     "text": [
      "(15341, 3)\n"
     ]
    },
    {
     "data": {
      "text/html": [
       "<div>\n",
       "<style scoped>\n",
       "    .dataframe tbody tr th:only-of-type {\n",
       "        vertical-align: middle;\n",
       "    }\n",
       "\n",
       "    .dataframe tbody tr th {\n",
       "        vertical-align: top;\n",
       "    }\n",
       "\n",
       "    .dataframe thead th {\n",
       "        text-align: right;\n",
       "    }\n",
       "</style>\n",
       "<table border=\"1\" class=\"dataframe\">\n",
       "  <thead>\n",
       "    <tr style=\"text-align: right;\">\n",
       "      <th></th>\n",
       "      <th>projectID</th>\n",
       "      <th>topic</th>\n",
       "      <th>title</th>\n",
       "    </tr>\n",
       "  </thead>\n",
       "  <tbody>\n",
       "    <tr>\n",
       "      <th>0</th>\n",
       "      <td>101116741</td>\n",
       "      <td>ERC-2023-STG</td>\n",
       "      <td>ERC STARTING GRANTS</td>\n",
       "    </tr>\n",
       "    <tr>\n",
       "      <th>1</th>\n",
       "      <td>101163161</td>\n",
       "      <td>ERC-2024-SyG</td>\n",
       "      <td>ERC SYNERGY GRANTS</td>\n",
       "    </tr>\n",
       "    <tr>\n",
       "      <th>2</th>\n",
       "      <td>101160499</td>\n",
       "      <td>ERC-2024-STG</td>\n",
       "      <td>ERC STARTING GRANTS</td>\n",
       "    </tr>\n",
       "    <tr>\n",
       "      <th>3</th>\n",
       "      <td>101166905</td>\n",
       "      <td>ERC-2024-SyG</td>\n",
       "      <td>ERC SYNERGY GRANTS</td>\n",
       "    </tr>\n",
       "    <tr>\n",
       "      <th>4</th>\n",
       "      <td>101162875</td>\n",
       "      <td>ERC-2024-STG</td>\n",
       "      <td>ERC STARTING GRANTS</td>\n",
       "    </tr>\n",
       "  </tbody>\n",
       "</table>\n",
       "</div>"
      ],
      "text/plain": [
       "   projectID         topic                title\n",
       "0  101116741  ERC-2023-STG  ERC STARTING GRANTS\n",
       "1  101163161  ERC-2024-SyG   ERC SYNERGY GRANTS\n",
       "2  101160499  ERC-2024-STG  ERC STARTING GRANTS\n",
       "3  101166905  ERC-2024-SyG   ERC SYNERGY GRANTS\n",
       "4  101162875  ERC-2024-STG  ERC STARTING GRANTS"
      ]
     },
     "execution_count": 53,
     "metadata": {},
     "output_type": "execute_result"
    }
   ],
   "source": [
    "topics = pd.read_csv(\"../data_1/raw/topics.csv\")\n",
    "\n",
    "# Overview\n",
    "print(topics.shape)\n",
    "topics.head()"
   ]
  },
  {
   "cell_type": "markdown",
   "id": "43ff65e6",
   "metadata": {},
   "source": [
    "### Legal Basis"
   ]
  },
  {
   "cell_type": "code",
   "execution_count": 52,
   "id": "f0c098df",
   "metadata": {},
   "outputs": [
    {
     "name": "stdout",
     "output_type": "stream",
     "text": [
      "(20512, 4)\n"
     ]
    },
    {
     "data": {
      "text/html": [
       "<div>\n",
       "<style scoped>\n",
       "    .dataframe tbody tr th:only-of-type {\n",
       "        vertical-align: middle;\n",
       "    }\n",
       "\n",
       "    .dataframe tbody tr th {\n",
       "        vertical-align: top;\n",
       "    }\n",
       "\n",
       "    .dataframe thead th {\n",
       "        text-align: right;\n",
       "    }\n",
       "</style>\n",
       "<table border=\"1\" class=\"dataframe\">\n",
       "  <thead>\n",
       "    <tr style=\"text-align: right;\">\n",
       "      <th></th>\n",
       "      <th>projectID</th>\n",
       "      <th>legalBasis</th>\n",
       "      <th>title</th>\n",
       "      <th>uniqueProgrammePart</th>\n",
       "    </tr>\n",
       "  </thead>\n",
       "  <tbody>\n",
       "    <tr>\n",
       "      <th>0</th>\n",
       "      <td>101116741</td>\n",
       "      <td>HORIZON.1.1</td>\n",
       "      <td>European Research Council (ERC)</td>\n",
       "      <td>True</td>\n",
       "    </tr>\n",
       "    <tr>\n",
       "      <th>1</th>\n",
       "      <td>101163161</td>\n",
       "      <td>HORIZON.1.1</td>\n",
       "      <td>European Research Council (ERC)</td>\n",
       "      <td>True</td>\n",
       "    </tr>\n",
       "    <tr>\n",
       "      <th>2</th>\n",
       "      <td>101160499</td>\n",
       "      <td>HORIZON.1.1</td>\n",
       "      <td>European Research Council (ERC)</td>\n",
       "      <td>True</td>\n",
       "    </tr>\n",
       "    <tr>\n",
       "      <th>3</th>\n",
       "      <td>101166905</td>\n",
       "      <td>HORIZON.1.1</td>\n",
       "      <td>European Research Council (ERC)</td>\n",
       "      <td>True</td>\n",
       "    </tr>\n",
       "    <tr>\n",
       "      <th>4</th>\n",
       "      <td>101162875</td>\n",
       "      <td>HORIZON.1.1</td>\n",
       "      <td>European Research Council (ERC)</td>\n",
       "      <td>True</td>\n",
       "    </tr>\n",
       "  </tbody>\n",
       "</table>\n",
       "</div>"
      ],
      "text/plain": [
       "   projectID   legalBasis                            title uniqueProgrammePart\n",
       "0  101116741  HORIZON.1.1  European Research Council (ERC)                True\n",
       "1  101163161  HORIZON.1.1  European Research Council (ERC)                True\n",
       "2  101160499  HORIZON.1.1  European Research Council (ERC)                True\n",
       "3  101166905  HORIZON.1.1  European Research Council (ERC)                True\n",
       "4  101162875  HORIZON.1.1  European Research Council (ERC)                True"
      ]
     },
     "execution_count": 52,
     "metadata": {},
     "output_type": "execute_result"
    }
   ],
   "source": [
    "legal = pd.read_csv(\"../data_1/raw/legalBasis.csv\")\n",
    "\n",
    "# Overview\n",
    "print(legal.shape)\n",
    "legal.head()"
   ]
  },
  {
   "cell_type": "markdown",
   "id": "cdd41e02",
   "metadata": {},
   "source": [
    "### Programmes"
   ]
  },
  {
   "cell_type": "code",
   "execution_count": 155,
   "id": "9f77f508",
   "metadata": {},
   "outputs": [
    {
     "name": "stdout",
     "output_type": "stream",
     "text": [
      "(2635, 15)\n"
     ]
    },
    {
     "data": {
      "text/html": [
       "<div>\n",
       "<style scoped>\n",
       "    .dataframe tbody tr th:only-of-type {\n",
       "        vertical-align: middle;\n",
       "    }\n",
       "\n",
       "    .dataframe tbody tr th {\n",
       "        vertical-align: top;\n",
       "    }\n",
       "\n",
       "    .dataframe thead th {\n",
       "        text-align: right;\n",
       "    }\n",
       "</style>\n",
       "<table border=\"1\" class=\"dataframe\">\n",
       "  <thead>\n",
       "    <tr style=\"text-align: right;\">\n",
       "      <th></th>\n",
       "      <th>id</th>\n",
       "      <th>language</th>\n",
       "      <th>code</th>\n",
       "      <th>startDate</th>\n",
       "      <th>endDate</th>\n",
       "      <th>title</th>\n",
       "      <th>shortTitle</th>\n",
       "      <th>objective</th>\n",
       "      <th>keywords</th>\n",
       "      <th>frameworkProgramme</th>\n",
       "      <th>parentProgramme</th>\n",
       "      <th>legalBasis</th>\n",
       "      <th>call</th>\n",
       "      <th>contentUpdateDate</th>\n",
       "      <th>rcn</th>\n",
       "    </tr>\n",
       "  </thead>\n",
       "  <tbody>\n",
       "    <tr>\n",
       "      <th>0</th>\n",
       "      <td>HORIZON_HORIZON-CL4-2023-SPACE-01-71</td>\n",
       "      <td>en</td>\n",
       "      <td>HORIZON-CL4-2023-SPACE-01-71</td>\n",
       "      <td>NaN</td>\n",
       "      <td>NaN</td>\n",
       "      <td>Scientific exploitation of space data</td>\n",
       "      <td>NaN</td>\n",
       "      <td>&lt;p&gt;Exploitation of all acquired and available ...</td>\n",
       "      <td>Space;Space and International cooperation;Math...</td>\n",
       "      <td>HORIZON</td>\n",
       "      <td>HORIZON-Topics</td>\n",
       "      <td>HORIZON.2.4.10</td>\n",
       "      <td>HORIZON-CL4-2023-SPACE-01</td>\n",
       "      <td>2022-11-11 15:28:01</td>\n",
       "      <td>707397</td>\n",
       "    </tr>\n",
       "    <tr>\n",
       "      <th>1</th>\n",
       "      <td>HORIZON_HORIZON-MISS-2023-OCEAN-01-08</td>\n",
       "      <td>en</td>\n",
       "      <td>HORIZON-MISS-2023-OCEAN-01-08</td>\n",
       "      <td>NaN</td>\n",
       "      <td>NaN</td>\n",
       "      <td>Integration of socio-ecological models into th...</td>\n",
       "      <td>NaN</td>\n",
       "      <td>&lt;p&gt;The vision for the European Digital Twin Oc...</td>\n",
       "      <td>Ocean Observation and Monitoring;European Mari...</td>\n",
       "      <td>HORIZON</td>\n",
       "      <td>HORIZON-Topics</td>\n",
       "      <td>HORIZON.2.2;HORIZON.2.4;HORIZON.2.5;HORIZON.2.6</td>\n",
       "      <td>HORIZON-MISS-2023-OCEAN-01</td>\n",
       "      <td>2022-12-29 15:29:12</td>\n",
       "      <td>708163</td>\n",
       "    </tr>\n",
       "    <tr>\n",
       "      <th>2</th>\n",
       "      <td>HORIZON_HORIZON-MSCA-2022-DN-01-01</td>\n",
       "      <td>en</td>\n",
       "      <td>HORIZON-MSCA-2022-DN-01-01</td>\n",
       "      <td>NaN</td>\n",
       "      <td>NaN</td>\n",
       "      <td>MSCA Doctoral Networks 2022</td>\n",
       "      <td>NaN</td>\n",
       "      <td>&lt;p&gt;MSCA Doctoral Networks will implement docto...</td>\n",
       "      <td>NaN</td>\n",
       "      <td>HORIZON</td>\n",
       "      <td>HORIZON-Topics</td>\n",
       "      <td>HORIZON.1.2</td>\n",
       "      <td>HORIZON-MSCA-2022-DN-01</td>\n",
       "      <td>2022-06-20 10:11:55</td>\n",
       "      <td>706020</td>\n",
       "    </tr>\n",
       "    <tr>\n",
       "      <th>3</th>\n",
       "      <td>HORIZON_HORIZON-CL4-2023-DATA-01-06</td>\n",
       "      <td>en</td>\n",
       "      <td>HORIZON-CL4-2023-DATA-01-06</td>\n",
       "      <td>NaN</td>\n",
       "      <td>NaN</td>\n",
       "      <td>Coordination and Support of Cognitive Computin...</td>\n",
       "      <td>NaN</td>\n",
       "      <td>&lt;ul level=\"\"0\"\"&gt;&lt;li&gt;To support the European Co...</td>\n",
       "      <td>Computer hardware and architecture;Computer sc...</td>\n",
       "      <td>HORIZON</td>\n",
       "      <td>HORIZON-Topics</td>\n",
       "      <td>HORIZON.2.4.7</td>\n",
       "      <td>HORIZON-CL4-2023-DATA-01</td>\n",
       "      <td>2022-11-08 17:40:51</td>\n",
       "      <td>707375</td>\n",
       "    </tr>\n",
       "    <tr>\n",
       "      <th>4</th>\n",
       "      <td>HORIZON_HORIZON-CL6-2021-COMMUNITIES-01-02</td>\n",
       "      <td>en</td>\n",
       "      <td>HORIZON-CL6-2021-COMMUNITIES-01-02</td>\n",
       "      <td>NaN</td>\n",
       "      <td>NaN</td>\n",
       "      <td>Expertise and training centre on rural innovation</td>\n",
       "      <td>NaN</td>\n",
       "      <td>&lt;p&gt;&lt;span&gt;Proposals should provide capacity bui...</td>\n",
       "      <td>Innovation systems;Participatory Innovation;We...</td>\n",
       "      <td>HORIZON</td>\n",
       "      <td>HORIZON-Topics</td>\n",
       "      <td>HORIZON.2.6.3</td>\n",
       "      <td>HORIZON-CL6-2021-COMMUNITIES-01</td>\n",
       "      <td>2022-06-20 10:30:37</td>\n",
       "      <td>706042</td>\n",
       "    </tr>\n",
       "  </tbody>\n",
       "</table>\n",
       "</div>"
      ],
      "text/plain": [
       "                                           id language  \\\n",
       "0        HORIZON_HORIZON-CL4-2023-SPACE-01-71       en   \n",
       "1       HORIZON_HORIZON-MISS-2023-OCEAN-01-08       en   \n",
       "2          HORIZON_HORIZON-MSCA-2022-DN-01-01       en   \n",
       "3         HORIZON_HORIZON-CL4-2023-DATA-01-06       en   \n",
       "4  HORIZON_HORIZON-CL6-2021-COMMUNITIES-01-02       en   \n",
       "\n",
       "                                 code  startDate  endDate  \\\n",
       "0        HORIZON-CL4-2023-SPACE-01-71        NaN      NaN   \n",
       "1       HORIZON-MISS-2023-OCEAN-01-08        NaN      NaN   \n",
       "2          HORIZON-MSCA-2022-DN-01-01        NaN      NaN   \n",
       "3         HORIZON-CL4-2023-DATA-01-06        NaN      NaN   \n",
       "4  HORIZON-CL6-2021-COMMUNITIES-01-02        NaN      NaN   \n",
       "\n",
       "                                               title  shortTitle  \\\n",
       "0              Scientific exploitation of space data         NaN   \n",
       "1  Integration of socio-ecological models into th...         NaN   \n",
       "2                        MSCA Doctoral Networks 2022         NaN   \n",
       "3  Coordination and Support of Cognitive Computin...         NaN   \n",
       "4  Expertise and training centre on rural innovation         NaN   \n",
       "\n",
       "                                           objective  \\\n",
       "0  <p>Exploitation of all acquired and available ...   \n",
       "1  <p>The vision for the European Digital Twin Oc...   \n",
       "2  <p>MSCA Doctoral Networks will implement docto...   \n",
       "3  <ul level=\"\"0\"\"><li>To support the European Co...   \n",
       "4  <p><span>Proposals should provide capacity bui...   \n",
       "\n",
       "                                            keywords frameworkProgramme  \\\n",
       "0  Space;Space and International cooperation;Math...            HORIZON   \n",
       "1  Ocean Observation and Monitoring;European Mari...            HORIZON   \n",
       "2                                                NaN            HORIZON   \n",
       "3  Computer hardware and architecture;Computer sc...            HORIZON   \n",
       "4  Innovation systems;Participatory Innovation;We...            HORIZON   \n",
       "\n",
       "  parentProgramme                                       legalBasis  \\\n",
       "0  HORIZON-Topics                                   HORIZON.2.4.10   \n",
       "1  HORIZON-Topics  HORIZON.2.2;HORIZON.2.4;HORIZON.2.5;HORIZON.2.6   \n",
       "2  HORIZON-Topics                                      HORIZON.1.2   \n",
       "3  HORIZON-Topics                                    HORIZON.2.4.7   \n",
       "4  HORIZON-Topics                                    HORIZON.2.6.3   \n",
       "\n",
       "                              call    contentUpdateDate     rcn  \n",
       "0        HORIZON-CL4-2023-SPACE-01  2022-11-11 15:28:01  707397  \n",
       "1       HORIZON-MISS-2023-OCEAN-01  2022-12-29 15:29:12  708163  \n",
       "2          HORIZON-MSCA-2022-DN-01  2022-06-20 10:11:55  706020  \n",
       "3         HORIZON-CL4-2023-DATA-01  2022-11-08 17:40:51  707375  \n",
       "4  HORIZON-CL6-2021-COMMUNITIES-01  2022-06-20 10:30:37  706042  "
      ]
     },
     "execution_count": 155,
     "metadata": {},
     "output_type": "execute_result"
    }
   ],
   "source": [
    "programme = pd.read_csv(\"../data_1/raw/programme.csv\")\n",
    "\n",
    "# Overview\n",
    "print(programme.shape)\n",
    "programme.head()"
   ]
  },
  {
   "cell_type": "markdown",
   "id": "0ea8b8b2",
   "metadata": {},
   "source": [
    "## Cleaning/Preproccessing Data"
   ]
  },
  {
   "cell_type": "markdown",
   "id": "7f470e5f",
   "metadata": {},
   "source": [
    "### Project Data"
   ]
  },
  {
   "cell_type": "markdown",
   "id": "c4e2bb1e",
   "metadata": {},
   "source": [
    "##### Examine Data Types & missingness"
   ]
  },
  {
   "cell_type": "code",
   "execution_count": 86,
   "id": "9df78cc8",
   "metadata": {},
   "outputs": [
    {
     "name": "stdout",
     "output_type": "stream",
     "text": [
      "(15341, 21)\n",
      "projectID                      int64\n",
      "acronym                       object\n",
      "status                      category\n",
      "title                 string[python]\n",
      "startDate             datetime64[ns]\n",
      "endDate               datetime64[ns]\n",
      "totalCost                    float64\n",
      "ecMaxContribution            float64\n",
      "legalBasis                  category\n",
      "topics                      category\n",
      "ecSignatureDate       datetime64[ns]\n",
      "frameworkProgramme          category\n",
      "masterCall                  category\n",
      "subCall                     category\n",
      "fundingScheme               category\n",
      "nature                       float64\n",
      "objective             string[python]\n",
      "contentUpdateDate     datetime64[ns]\n",
      "rcn                            int64\n",
      "grantDoi                      object\n",
      "similarity                   float32\n",
      "dtype: object\n"
     ]
    }
   ],
   "source": [
    "print(project.shape)\n",
    "print(project.dtypes)"
   ]
  },
  {
   "cell_type": "code",
   "execution_count": 7,
   "id": "1ad291de",
   "metadata": {},
   "outputs": [
    {
     "data": {
      "text/plain": [
       "nature                15341\n",
       "grantDoi                 60\n",
       "fundingScheme             1\n",
       "ecSignatureDate           1\n",
       "startDate                 0\n",
       "endDate                   0\n",
       "totalCost                 0\n",
       "ecMaxContribution         0\n",
       "legalBasis                0\n",
       "topics                    0\n",
       "acronym                   0\n",
       "frameworkProgramme        0\n",
       "masterCall                0\n",
       "subCall                   0\n",
       "title                     0\n",
       "status                    0\n",
       "objective                 0\n",
       "contentUpdateDate         0\n",
       "rcn                       0\n",
       "id                        0\n",
       "dtype: int64"
      ]
     },
     "execution_count": 7,
     "metadata": {},
     "output_type": "execute_result"
    }
   ],
   "source": [
    "project.isnull().sum().sort_values(ascending=False)\n"
   ]
  },
  {
   "cell_type": "markdown",
   "id": "43225e4d",
   "metadata": {},
   "source": [
    "#### Converting data types"
   ]
  },
  {
   "cell_type": "markdown",
   "id": "0f6b9d76",
   "metadata": {},
   "source": [
    "##### Dates"
   ]
  },
  {
   "cell_type": "code",
   "execution_count": 8,
   "id": "4e8c56b1",
   "metadata": {},
   "outputs": [
    {
     "name": "stdout",
     "output_type": "stream",
     "text": [
      "startDate            datetime64[ns]\n",
      "endDate              datetime64[ns]\n",
      "ecSignatureDate      datetime64[ns]\n",
      "contentUpdateDate    datetime64[ns]\n",
      "dtype: object\n",
      "startDate            0\n",
      "endDate              0\n",
      "ecSignatureDate      1\n",
      "contentUpdateDate    0\n",
      "dtype: int64\n"
     ]
    }
   ],
   "source": [
    "project[\"startDate\"] = pd.to_datetime(project[\"startDate\"], errors=\"coerce\")\n",
    "project[\"endDate\"] = pd.to_datetime(project[\"endDate\"], errors=\"coerce\")\n",
    "project[\"ecSignatureDate\"] = pd.to_datetime(project[\"ecSignatureDate\"], errors=\"coerce\")\n",
    "project[\"contentUpdateDate\"] = pd.to_datetime(project[\"contentUpdateDate\"], errors=\"coerce\")\n",
    "\n",
    "\n",
    "print(project[[\"startDate\", \"endDate\",\"ecSignatureDate\",\"contentUpdateDate\"]].dtypes)\n",
    "print(project[[\"startDate\", \"endDate\",\"ecSignatureDate\",\"contentUpdateDate\"]].isnull().sum())\n"
   ]
  },
  {
   "cell_type": "markdown",
   "id": "2cd90722",
   "metadata": {},
   "source": [
    "All dates have been converted, however there is one missing ecSignatureDate which can be imputed later."
   ]
  },
  {
   "cell_type": "code",
   "execution_count": 9,
   "id": "75a51674",
   "metadata": {},
   "outputs": [
    {
     "data": {
      "text/html": [
       "<div>\n",
       "<style scoped>\n",
       "    .dataframe tbody tr th:only-of-type {\n",
       "        vertical-align: middle;\n",
       "    }\n",
       "\n",
       "    .dataframe tbody tr th {\n",
       "        vertical-align: top;\n",
       "    }\n",
       "\n",
       "    .dataframe thead th {\n",
       "        text-align: right;\n",
       "    }\n",
       "</style>\n",
       "<table border=\"1\" class=\"dataframe\">\n",
       "  <thead>\n",
       "    <tr style=\"text-align: right;\">\n",
       "      <th></th>\n",
       "      <th>id</th>\n",
       "      <th>acronym</th>\n",
       "      <th>status</th>\n",
       "      <th>title</th>\n",
       "      <th>startDate</th>\n",
       "      <th>endDate</th>\n",
       "      <th>totalCost</th>\n",
       "      <th>ecMaxContribution</th>\n",
       "      <th>legalBasis</th>\n",
       "      <th>topics</th>\n",
       "      <th>ecSignatureDate</th>\n",
       "      <th>frameworkProgramme</th>\n",
       "      <th>masterCall</th>\n",
       "      <th>subCall</th>\n",
       "      <th>fundingScheme</th>\n",
       "      <th>nature</th>\n",
       "      <th>objective</th>\n",
       "      <th>contentUpdateDate</th>\n",
       "      <th>rcn</th>\n",
       "      <th>grantDoi</th>\n",
       "    </tr>\n",
       "  </thead>\n",
       "  <tbody>\n",
       "    <tr>\n",
       "      <th>13030</th>\n",
       "      <td>101183158</td>\n",
       "      <td>AgRibot</td>\n",
       "      <td>SIGNED</td>\n",
       "      <td>Harnessing Robotics, XR/AR, and 5G for a New E...</td>\n",
       "      <td>2024-11-01</td>\n",
       "      <td>2028-10-31</td>\n",
       "      <td>4966380</td>\n",
       "      <td>4966380</td>\n",
       "      <td>HORIZON.2.6</td>\n",
       "      <td>HORIZON-CL6-2024-GOVERNANCE-01-7</td>\n",
       "      <td>NaT</td>\n",
       "      <td>HORIZON</td>\n",
       "      <td>HORIZON-CL6-2024-GOVERNANCE-01</td>\n",
       "      <td>HORIZON-CL6-2024-GOVERNANCE-01</td>\n",
       "      <td>HORIZON-RIA</td>\n",
       "      <td>NaN</td>\n",
       "      <td>AgRibot is a groundbreaking project aimed at a...</td>\n",
       "      <td>2024-11-01 17:52:05</td>\n",
       "      <td>267095</td>\n",
       "      <td>10.3030/101183158</td>\n",
       "    </tr>\n",
       "  </tbody>\n",
       "</table>\n",
       "</div>"
      ],
      "text/plain": [
       "              id  acronym  status  \\\n",
       "13030  101183158  AgRibot  SIGNED   \n",
       "\n",
       "                                                   title  startDate  \\\n",
       "13030  Harnessing Robotics, XR/AR, and 5G for a New E... 2024-11-01   \n",
       "\n",
       "         endDate totalCost ecMaxContribution   legalBasis  \\\n",
       "13030 2028-10-31   4966380           4966380  HORIZON.2.6   \n",
       "\n",
       "                                 topics ecSignatureDate frameworkProgramme  \\\n",
       "13030  HORIZON-CL6-2024-GOVERNANCE-01-7             NaT            HORIZON   \n",
       "\n",
       "                           masterCall                         subCall  \\\n",
       "13030  HORIZON-CL6-2024-GOVERNANCE-01  HORIZON-CL6-2024-GOVERNANCE-01   \n",
       "\n",
       "      fundingScheme  nature  \\\n",
       "13030   HORIZON-RIA     NaN   \n",
       "\n",
       "                                               objective   contentUpdateDate  \\\n",
       "13030  AgRibot is a groundbreaking project aimed at a... 2024-11-01 17:52:05   \n",
       "\n",
       "          rcn           grantDoi  \n",
       "13030  267095  10.3030/101183158  "
      ]
     },
     "execution_count": 9,
     "metadata": {},
     "output_type": "execute_result"
    }
   ],
   "source": [
    "project[project[\"ecSignatureDate\"].isna()]"
   ]
  },
  {
   "cell_type": "markdown",
   "id": "3e2b3f08",
   "metadata": {},
   "source": [
    "##### Money"
   ]
  },
  {
   "cell_type": "code",
   "execution_count": 10,
   "id": "21db0a6b",
   "metadata": {},
   "outputs": [
    {
     "name": "stdout",
     "output_type": "stream",
     "text": [
      "0\n",
      "0\n"
     ]
    }
   ],
   "source": [
    "# ensure strings, remove commas as decimals and convert to numbers\n",
    "project[\"totalCost\"] = project[\"totalCost\"].astype(str)\n",
    "project[\"ecMaxContribution\"] = project[\"ecMaxContribution\"].astype(str)\n",
    "\n",
    "project[\"totalCost\"] = project[\"totalCost\"].str.replace(\",\", \".\")              \n",
    "project[\"ecMaxContribution\"] = project[\"ecMaxContribution\"].str.replace(\",\", \".\")              \n",
    "\n",
    "project[\"totalCost\"] = pd.to_numeric(project[\"totalCost\"], errors=\"coerce\")\n",
    "project[\"ecMaxContribution\"] = pd.to_numeric(project[\"ecMaxContribution\"], errors=\"coerce\")\n",
    "\n",
    "#check\n",
    "print(project[\"totalCost\"].isna().sum())      \n",
    "print(project[\"ecMaxContribution\"].isna().sum())      "
   ]
  },
  {
   "cell_type": "markdown",
   "id": "f9b429c2",
   "metadata": {},
   "source": [
    "##### Strings"
   ]
  },
  {
   "cell_type": "code",
   "execution_count": 11,
   "id": "5983ea3a",
   "metadata": {},
   "outputs": [],
   "source": [
    "text_cols = [\"title\",\"objective\"]\n",
    "project[text_cols] = project[text_cols].astype(\"string\")\n"
   ]
  },
  {
   "cell_type": "markdown",
   "id": "0537b9f5",
   "metadata": {},
   "source": [
    "##### Categories"
   ]
  },
  {
   "cell_type": "code",
   "execution_count": 12,
   "id": "8e3a5fc1",
   "metadata": {},
   "outputs": [],
   "source": [
    "cat_cols = [\"status\",\"legalBasis\",\"topics\", \"frameworkProgramme\", \"fundingScheme\", \"masterCall\", \"subCall\"]\n",
    "project[cat_cols] = project[cat_cols].astype(\"category\")\n"
   ]
  },
  {
   "cell_type": "markdown",
   "id": "6716be34",
   "metadata": {},
   "source": [
    "### Org Data"
   ]
  },
  {
   "cell_type": "markdown",
   "id": "11a506f4",
   "metadata": {},
   "source": [
    "#### Examine Data Types & missingness"
   ]
  },
  {
   "cell_type": "code",
   "execution_count": 13,
   "id": "abe8277a",
   "metadata": {},
   "outputs": [
    {
     "name": "stdout",
     "output_type": "stream",
     "text": [
      "(100249, 25)\n",
      "projectID               int64\n",
      "projectAcronym         object\n",
      "organisationID          int64\n",
      "vatNumber              object\n",
      "name                   object\n",
      "shortName              object\n",
      "SME                    object\n",
      "activityType           object\n",
      "street                 object\n",
      "postCode               object\n",
      "city                   object\n",
      "country                object\n",
      "nutsCode               object\n",
      "geolocation            object\n",
      "organizationURL        object\n",
      "contactForm            object\n",
      "contentUpdateDate      object\n",
      "rcn                     int64\n",
      "order                   int64\n",
      "role                   object\n",
      "ecContribution        float64\n",
      "netEcContribution     float64\n",
      "totalCost              object\n",
      "endOfParticipation       bool\n",
      "active                float64\n",
      "dtype: object\n"
     ]
    }
   ],
   "source": [
    "print(org.shape)\n",
    "print(org.dtypes)"
   ]
  },
  {
   "cell_type": "code",
   "execution_count": 14,
   "id": "776c4bc1",
   "metadata": {},
   "outputs": [
    {
     "name": "stdout",
     "output_type": "stream",
     "text": [
      "active                100249\n",
      "organizationURL        38954\n",
      "shortName              25507\n",
      "ecContribution         15704\n",
      "vatNumber              15403\n",
      "totalCost                936\n",
      "postCode                 786\n",
      "geolocation              588\n",
      "street                   300\n",
      "nutsCode                 278\n",
      "city                     263\n",
      "SME                      263\n",
      "netEcContribution         42\n",
      "activityType              24\n",
      "country                   13\n",
      "projectAcronym             0\n",
      "contactForm                0\n",
      "contentUpdateDate          0\n",
      "rcn                        0\n",
      "order                      0\n",
      "role                       0\n",
      "name                       0\n",
      "organisationID             0\n",
      "endOfParticipation         0\n",
      "projectID                  0\n",
      "dtype: int64\n"
     ]
    }
   ],
   "source": [
    "missing_summary = org.isnull().sum().sort_values(ascending=False)\n",
    "print(missing_summary)"
   ]
  },
  {
   "cell_type": "markdown",
   "id": "5446e1b1",
   "metadata": {},
   "source": [
    "#### Dates"
   ]
  },
  {
   "cell_type": "code",
   "execution_count": 15,
   "id": "e5f23615",
   "metadata": {},
   "outputs": [
    {
     "name": "stdout",
     "output_type": "stream",
     "text": [
      "datetime64[ns]\n",
      "0\n"
     ]
    }
   ],
   "source": [
    "org[\"contentUpdateDate\"] = pd.to_datetime(org[\"contentUpdateDate\"], errors=\"coerce\")\n",
    "\n",
    "print(project[\"contentUpdateDate\"].dtypes)\n",
    "print(project[\"contentUpdateDate\"].isnull().sum())\n"
   ]
  },
  {
   "cell_type": "markdown",
   "id": "e6e03dba",
   "metadata": {},
   "source": [
    "#### Money"
   ]
  },
  {
   "cell_type": "code",
   "execution_count": 16,
   "id": "14a2fe72",
   "metadata": {},
   "outputs": [
    {
     "name": "stdout",
     "output_type": "stream",
     "text": [
      "0\n"
     ]
    }
   ],
   "source": [
    "# ensure strings, remove commas as decimals and convert to numbers (replace blanmks with 0)\n",
    "org[\"totalCost\"] = org[\"totalCost\"].fillna(\"0\") \n",
    "\n",
    "org[\"totalCost\"] = org[\"totalCost\"].astype(str)\n",
    "\n",
    "org[\"totalCost\"] = org[\"totalCost\"].str.replace(\",\", \".\")              \n",
    "\n",
    "org[\"totalCost\"] = pd.to_numeric(org[\"totalCost\"], errors=\"coerce\")\n",
    "\n",
    "#check\n",
    "print(org[\"totalCost\"].isna().sum())      \n"
   ]
  },
  {
   "cell_type": "markdown",
   "id": "8fd13d39",
   "metadata": {},
   "source": [
    "#### Categories"
   ]
  },
  {
   "cell_type": "code",
   "execution_count": 17,
   "id": "d2138ed6",
   "metadata": {},
   "outputs": [],
   "source": [
    "org[\"SME\"] = org[\"SME\"].astype(\"category\")\n",
    "org[\"role\"] = org[\"role\"].astype(\"category\")\n",
    "org[\"country\"] = org[\"country\"].astype(\"category\")\n",
    "org[\"activityType\"] = org[\"activityType\"].astype(\"category\")\n",
    "org[\"endOfParticipation\"] = org[\"endOfParticipation\"].astype(\"bool\")\n"
   ]
  },
  {
   "cell_type": "markdown",
   "id": "4b1cbcf2",
   "metadata": {},
   "source": [
    "### SciVoc Data"
   ]
  },
  {
   "cell_type": "code",
   "execution_count": 18,
   "id": "99a328a8",
   "metadata": {},
   "outputs": [],
   "source": [
    "scivoc_summary = (\n",
    "    scivoc.groupby(\"projectID\")[\"euroSciVocTitle\"]\n",
    "    .apply(list)\n",
    "    .reset_index()\n",
    "    .rename(columns={\"euroSciVocTitle\": \"sciVocTopics\"})\n",
    ")\n"
   ]
  },
  {
   "cell_type": "code",
   "execution_count": 19,
   "id": "6845a0c8",
   "metadata": {},
   "outputs": [
    {
     "data": {
      "text/html": [
       "<div>\n",
       "<style scoped>\n",
       "    .dataframe tbody tr th:only-of-type {\n",
       "        vertical-align: middle;\n",
       "    }\n",
       "\n",
       "    .dataframe tbody tr th {\n",
       "        vertical-align: top;\n",
       "    }\n",
       "\n",
       "    .dataframe thead th {\n",
       "        text-align: right;\n",
       "    }\n",
       "</style>\n",
       "<table border=\"1\" class=\"dataframe\">\n",
       "  <thead>\n",
       "    <tr style=\"text-align: right;\">\n",
       "      <th></th>\n",
       "      <th>projectID</th>\n",
       "      <th>sciVocTopics</th>\n",
       "    </tr>\n",
       "  </thead>\n",
       "  <tbody>\n",
       "    <tr>\n",
       "      <th>0</th>\n",
       "      <td>101039048</td>\n",
       "      <td>[noble gases, neutrinos]</td>\n",
       "    </tr>\n",
       "    <tr>\n",
       "      <th>1</th>\n",
       "      <td>101039060</td>\n",
       "      <td>[prehistory, computational science, nutrition,...</td>\n",
       "    </tr>\n",
       "    <tr>\n",
       "      <th>2</th>\n",
       "      <td>101039066</td>\n",
       "      <td>[ecosystems, climatic changes, forestry]</td>\n",
       "    </tr>\n",
       "    <tr>\n",
       "      <th>3</th>\n",
       "      <td>101039090</td>\n",
       "      <td>[didactics, reinforcement learning, virtual re...</td>\n",
       "    </tr>\n",
       "    <tr>\n",
       "      <th>4</th>\n",
       "      <td>101039098</td>\n",
       "      <td>[quantum physics]</td>\n",
       "    </tr>\n",
       "  </tbody>\n",
       "</table>\n",
       "</div>"
      ],
      "text/plain": [
       "   projectID                                       sciVocTopics\n",
       "0  101039048                           [noble gases, neutrinos]\n",
       "1  101039060  [prehistory, computational science, nutrition,...\n",
       "2  101039066           [ecosystems, climatic changes, forestry]\n",
       "3  101039090  [didactics, reinforcement learning, virtual re...\n",
       "4  101039098                                  [quantum physics]"
      ]
     },
     "execution_count": 19,
     "metadata": {},
     "output_type": "execute_result"
    }
   ],
   "source": [
    "scivoc_summary.head()"
   ]
  },
  {
   "cell_type": "markdown",
   "id": "a6ca803f",
   "metadata": {},
   "source": [
    "### Topics"
   ]
  },
  {
   "cell_type": "code",
   "execution_count": 70,
   "id": "ab924859",
   "metadata": {},
   "outputs": [
    {
     "name": "stdout",
     "output_type": "stream",
     "text": [
      "(15341, 3)\n",
      "projectID               int64\n",
      "topic                  object\n",
      "title_topic    string[python]\n",
      "dtype: object\n"
     ]
    }
   ],
   "source": [
    "print(topics.shape)\n",
    "print(topics.dtypes)"
   ]
  },
  {
   "cell_type": "code",
   "execution_count": 61,
   "id": "4c9adda8",
   "metadata": {},
   "outputs": [
    {
     "name": "stdout",
     "output_type": "stream",
     "text": [
      "projectID    0\n",
      "topic        0\n",
      "title        0\n",
      "dtype: int64\n"
     ]
    }
   ],
   "source": [
    "missing_summary_topics = topics.isnull().sum().sort_values(ascending=False)\n",
    "print(missing_summary_topics)"
   ]
  },
  {
   "cell_type": "code",
   "execution_count": 68,
   "id": "44ad9283",
   "metadata": {},
   "outputs": [],
   "source": [
    "topics[\"title_topic\"] = topics[\"title\"].astype(\"string\")\n",
    "topics = topics.drop(columns=\"title\")\n"
   ]
  },
  {
   "cell_type": "markdown",
   "id": "21ce27e0",
   "metadata": {},
   "source": [
    "### Legal Basis"
   ]
  },
  {
   "cell_type": "code",
   "execution_count": 71,
   "id": "f45d8514",
   "metadata": {},
   "outputs": [
    {
     "name": "stdout",
     "output_type": "stream",
     "text": [
      "(20512, 4)\n",
      "projectID                       int64\n",
      "legalBasis                     object\n",
      "uniqueProgrammePart            object\n",
      "title_legal            string[python]\n",
      "dtype: object\n"
     ]
    }
   ],
   "source": [
    "print(legal.shape)\n",
    "print(legal.dtypes)"
   ]
  },
  {
   "cell_type": "code",
   "execution_count": 58,
   "id": "f23f72dc",
   "metadata": {},
   "outputs": [
    {
     "name": "stdout",
     "output_type": "stream",
     "text": [
      "uniqueProgrammePart    5171\n",
      "projectID                 0\n",
      "legalBasis                0\n",
      "title                     0\n",
      "dtype: int64\n"
     ]
    }
   ],
   "source": [
    "missing_summary_legal = legal.isnull().sum().sort_values(ascending=False)\n",
    "print(missing_summary_legal)"
   ]
  },
  {
   "cell_type": "code",
   "execution_count": 69,
   "id": "a386d872",
   "metadata": {},
   "outputs": [],
   "source": [
    "legal[\"title_legal\"] = legal[\"title\"].astype(\"string\")\n",
    "legal = legal.drop(columns=\"title\")\n"
   ]
  },
  {
   "cell_type": "code",
   "execution_count": 74,
   "id": "b9e2ed0f",
   "metadata": {},
   "outputs": [],
   "source": [
    "# Group by projectID and collect all unique title_legal values into a list\n",
    "legal_summary = (\n",
    "    legal.groupby(\"projectID\")[\"title_legal\"]\n",
    "    .apply(lambda x: sorted(set(x.dropna())))\n",
    "    .reset_index()\n",
    ")\n",
    "\n",
    "legal_summary[\"n_title_legals\"] = legal_summary[\"title_legal\"].apply(len)\n"
   ]
  },
  {
   "cell_type": "markdown",
   "id": "3962cbca",
   "metadata": {},
   "source": [
    "### New Data Sets"
   ]
  },
  {
   "cell_type": "markdown",
   "id": "07e644f1",
   "metadata": {},
   "source": [
    "#### Organisations"
   ]
  },
  {
   "cell_type": "code",
   "execution_count": 20,
   "id": "664350d5",
   "metadata": {},
   "outputs": [],
   "source": [
    "org_projects = (\n",
    "    org.groupby(\"organisationID\")[[\"projectID\", \"order\", \"role\", \"totalCost\"]]\n",
    "    .apply(lambda df: df.to_dict(\"records\"))\n",
    "    .reset_index()\n",
    "    .rename(columns={0: \"projects\"})\n",
    ")\n",
    "\n",
    "org_unique_base = org.drop_duplicates(subset=\"organisationID\")[[\n",
    "    \"organisationID\", \"name\", \"SME\", \"activityType\",\n",
    "    \"country\", \"city\", \"geolocation\",\"organizationURL\"\n",
    "]]\n",
    "\n",
    "org_unique_detailed = org_unique_base.merge(org_projects, on=\"organisationID\", how=\"left\")\n",
    "org_unique_detailed[\"n_projects\"] = org_unique_detailed[\"projects\"].apply(len)\n",
    "org_unique_detailed[\"totalCost\"] = org_unique_detailed[\"projects\"].apply(\n",
    "    lambda x: sum([proj[\"totalCost\"] for proj in x])\n",
    ")"
   ]
  },
  {
   "cell_type": "code",
   "execution_count": 145,
   "id": "ff524d4d",
   "metadata": {},
   "outputs": [],
   "source": [
    "org_unique_detailed[[\"latitude\", \"longitude\"]] = org_unique_detailed[\"geolocation\"].astype(str).str.split(\",\", expand=True)\n",
    "org_unique_detailed[\"latitude\"] = pd.to_numeric(org_unique_detailed[\"latitude\"], errors=\"coerce\")\n",
    "org_unique_detailed[\"longitude\"] = pd.to_numeric(org_unique_detailed[\"longitude\"], errors=\"coerce\")\n"
   ]
  },
  {
   "cell_type": "code",
   "execution_count": 146,
   "id": "0d4a0b65",
   "metadata": {},
   "outputs": [
    {
     "data": {
      "text/html": [
       "<div>\n",
       "<style scoped>\n",
       "    .dataframe tbody tr th:only-of-type {\n",
       "        vertical-align: middle;\n",
       "    }\n",
       "\n",
       "    .dataframe tbody tr th {\n",
       "        vertical-align: top;\n",
       "    }\n",
       "\n",
       "    .dataframe thead th {\n",
       "        text-align: right;\n",
       "    }\n",
       "</style>\n",
       "<table border=\"1\" class=\"dataframe\">\n",
       "  <thead>\n",
       "    <tr style=\"text-align: right;\">\n",
       "      <th></th>\n",
       "      <th>organisationID</th>\n",
       "      <th>name</th>\n",
       "      <th>SME</th>\n",
       "      <th>activityType</th>\n",
       "      <th>country</th>\n",
       "      <th>city</th>\n",
       "      <th>geolocation</th>\n",
       "      <th>organizationURL</th>\n",
       "      <th>projects</th>\n",
       "      <th>n_projects</th>\n",
       "      <th>totalCost</th>\n",
       "      <th>latitude</th>\n",
       "      <th>longitude</th>\n",
       "    </tr>\n",
       "  </thead>\n",
       "  <tbody>\n",
       "    <tr>\n",
       "      <th>0</th>\n",
       "      <td>999981634</td>\n",
       "      <td>WAGENINGEN UNIVERSITY</td>\n",
       "      <td>False</td>\n",
       "      <td>HES</td>\n",
       "      <td>NL</td>\n",
       "      <td>Wageningen</td>\n",
       "      <td>51.9863279,5.6679366</td>\n",
       "      <td>http://www.wageningenur.nl/nl.htm</td>\n",
       "      <td>[{'projectID': 101116741, 'order': 1, 'role': ...</td>\n",
       "      <td>190</td>\n",
       "      <td>9.585641e+07</td>\n",
       "      <td>51.986328</td>\n",
       "      <td>5.667937</td>\n",
       "    </tr>\n",
       "    <tr>\n",
       "      <th>1</th>\n",
       "      <td>999997736</td>\n",
       "      <td>AARHUS UNIVERSITET</td>\n",
       "      <td>False</td>\n",
       "      <td>HES</td>\n",
       "      <td>DK</td>\n",
       "      <td>Aarhus C</td>\n",
       "      <td>56.171028,10.199381</td>\n",
       "      <td>http://www.au.dk</td>\n",
       "      <td>[{'projectID': 101163161, 'order': 2, 'role': ...</td>\n",
       "      <td>302</td>\n",
       "      <td>1.446105e+08</td>\n",
       "      <td>56.171028</td>\n",
       "      <td>10.199381</td>\n",
       "    </tr>\n",
       "    <tr>\n",
       "      <th>2</th>\n",
       "      <td>999854855</td>\n",
       "      <td>UNIVERSITAET POTSDAM</td>\n",
       "      <td>False</td>\n",
       "      <td>HES</td>\n",
       "      <td>DE</td>\n",
       "      <td>Potsdam</td>\n",
       "      <td>52.3979172,13.0146272</td>\n",
       "      <td>http://www.uni-potsdam.de</td>\n",
       "      <td>[{'projectID': 101163161, 'order': 3, 'role': ...</td>\n",
       "      <td>33</td>\n",
       "      <td>9.636627e+06</td>\n",
       "      <td>52.397917</td>\n",
       "      <td>13.014627</td>\n",
       "    </tr>\n",
       "    <tr>\n",
       "      <th>3</th>\n",
       "      <td>999990267</td>\n",
       "      <td>MAX-PLANCK-GESELLSCHAFT ZUR FORDERUNG DER WISS...</td>\n",
       "      <td>False</td>\n",
       "      <td>REC</td>\n",
       "      <td>DE</td>\n",
       "      <td>Munchen</td>\n",
       "      <td>48.1411687,11.5822929</td>\n",
       "      <td>http://www.mpg.de</td>\n",
       "      <td>[{'projectID': 101163161, 'order': 1, 'role': ...</td>\n",
       "      <td>364</td>\n",
       "      <td>6.762257e+08</td>\n",
       "      <td>48.141169</td>\n",
       "      <td>11.582293</td>\n",
       "    </tr>\n",
       "    <tr>\n",
       "      <th>4</th>\n",
       "      <td>999874546</td>\n",
       "      <td>UNIVERSIDAD COMPLUTENSE DE MADRID</td>\n",
       "      <td>False</td>\n",
       "      <td>HES</td>\n",
       "      <td>ES</td>\n",
       "      <td>Madrid</td>\n",
       "      <td>40.4343404,-3.7340644</td>\n",
       "      <td>http://www.ucm.es</td>\n",
       "      <td>[{'projectID': 101160499, 'order': 1, 'role': ...</td>\n",
       "      <td>75</td>\n",
       "      <td>2.014061e+07</td>\n",
       "      <td>40.434340</td>\n",
       "      <td>-3.734064</td>\n",
       "    </tr>\n",
       "  </tbody>\n",
       "</table>\n",
       "</div>"
      ],
      "text/plain": [
       "   organisationID                                               name    SME  \\\n",
       "0       999981634                              WAGENINGEN UNIVERSITY  False   \n",
       "1       999997736                                 AARHUS UNIVERSITET  False   \n",
       "2       999854855                               UNIVERSITAET POTSDAM  False   \n",
       "3       999990267  MAX-PLANCK-GESELLSCHAFT ZUR FORDERUNG DER WISS...  False   \n",
       "4       999874546                  UNIVERSIDAD COMPLUTENSE DE MADRID  False   \n",
       "\n",
       "  activityType country        city            geolocation  \\\n",
       "0          HES      NL  Wageningen   51.9863279,5.6679366   \n",
       "1          HES      DK    Aarhus C    56.171028,10.199381   \n",
       "2          HES      DE     Potsdam  52.3979172,13.0146272   \n",
       "3          REC      DE     Munchen  48.1411687,11.5822929   \n",
       "4          HES      ES      Madrid  40.4343404,-3.7340644   \n",
       "\n",
       "                     organizationURL  \\\n",
       "0  http://www.wageningenur.nl/nl.htm   \n",
       "1                   http://www.au.dk   \n",
       "2          http://www.uni-potsdam.de   \n",
       "3                  http://www.mpg.de   \n",
       "4                  http://www.ucm.es   \n",
       "\n",
       "                                            projects  n_projects  \\\n",
       "0  [{'projectID': 101116741, 'order': 1, 'role': ...         190   \n",
       "1  [{'projectID': 101163161, 'order': 2, 'role': ...         302   \n",
       "2  [{'projectID': 101163161, 'order': 3, 'role': ...          33   \n",
       "3  [{'projectID': 101163161, 'order': 1, 'role': ...         364   \n",
       "4  [{'projectID': 101160499, 'order': 1, 'role': ...          75   \n",
       "\n",
       "      totalCost   latitude  longitude  \n",
       "0  9.585641e+07  51.986328   5.667937  \n",
       "1  1.446105e+08  56.171028  10.199381  \n",
       "2  9.636627e+06  52.397917  13.014627  \n",
       "3  6.762257e+08  48.141169  11.582293  \n",
       "4  2.014061e+07  40.434340  -3.734064  "
      ]
     },
     "execution_count": 146,
     "metadata": {},
     "output_type": "execute_result"
    }
   ],
   "source": [
    "org_unique_detailed.head()"
   ]
  },
  {
   "cell_type": "code",
   "execution_count": 147,
   "id": "9a3921f0",
   "metadata": {},
   "outputs": [
    {
     "name": "stdout",
     "output_type": "stream",
     "text": [
      "(27267, 13)\n",
      "organizationURL    21529\n",
      "geolocation          557\n",
      "latitude             557\n",
      "longitude            557\n",
      "SME                  233\n",
      "city                 233\n",
      "activityType          24\n",
      "country               10\n",
      "organisationID         0\n",
      "name                   0\n",
      "projects               0\n",
      "n_projects             0\n",
      "totalCost              0\n",
      "dtype: int64\n"
     ]
    }
   ],
   "source": [
    "missing_organisations_summary = org_unique_detailed.isnull().sum().sort_values(ascending=False)\n",
    "print(org_unique_detailed.shape)\n",
    "print(missing_organisations_summary)"
   ]
  },
  {
   "cell_type": "markdown",
   "id": "e151955e",
   "metadata": {},
   "source": [
    "these can be imputted later"
   ]
  },
  {
   "cell_type": "markdown",
   "id": "975075ff",
   "metadata": {},
   "source": [
    "#### Projects: group particpating organisations"
   ]
  },
  {
   "cell_type": "code",
   "execution_count": 23,
   "id": "7681f59a",
   "metadata": {},
   "outputs": [],
   "source": [
    "\n",
    "# Initialize an empty dictionary to store role-based org IDs per project\n",
    "project_roles = defaultdict(lambda: {\n",
    "    \"coordinator\": [],\n",
    "    \"participant\": [],\n",
    "    \"thirdParty\": [],\n",
    "    \"associatedPartner\": []\n",
    "})\n",
    "\n",
    "# Populate the dictionary\n",
    "for _, row in org.iterrows():\n",
    "    pid = row[\"projectID\"]\n",
    "    role = str(row[\"role\"]).strip() if pd.notna(row[\"role\"]) else None\n",
    "    org_id = row[\"organisationID\"]\n",
    "\n",
    "    if role in project_roles[pid]:\n",
    "        project_roles[pid][role].append(org_id)\n",
    "\n",
    "project_records = []\n",
    "\n",
    "for pid, roles in project_roles.items():\n",
    "    project_records.append({\n",
    "        \"projectID\": pid,\n",
    "        \"coordinator\": roles[\"coordinator\"],\n",
    "        \"participant\": roles[\"participant\"],\n",
    "        \"thirdParty\": roles[\"thirdParty\"],\n",
    "        \"associatedPartner\": roles[\"associatedPartner\"],\n",
    "        \"n_organisations\": sum(len(v) for v in roles.values())\n",
    "    })\n",
    "\n",
    "project_summary = pd.DataFrame(project_records)\n",
    "\n"
   ]
  },
  {
   "cell_type": "code",
   "execution_count": 24,
   "id": "4fad4e15",
   "metadata": {},
   "outputs": [
    {
     "data": {
      "text/html": [
       "<div>\n",
       "<style scoped>\n",
       "    .dataframe tbody tr th:only-of-type {\n",
       "        vertical-align: middle;\n",
       "    }\n",
       "\n",
       "    .dataframe tbody tr th {\n",
       "        vertical-align: top;\n",
       "    }\n",
       "\n",
       "    .dataframe thead th {\n",
       "        text-align: right;\n",
       "    }\n",
       "</style>\n",
       "<table border=\"1\" class=\"dataframe\">\n",
       "  <thead>\n",
       "    <tr style=\"text-align: right;\">\n",
       "      <th></th>\n",
       "      <th>projectID</th>\n",
       "      <th>coordinator</th>\n",
       "      <th>participant</th>\n",
       "      <th>thirdParty</th>\n",
       "      <th>associatedPartner</th>\n",
       "      <th>n_organisations</th>\n",
       "    </tr>\n",
       "  </thead>\n",
       "  <tbody>\n",
       "    <tr>\n",
       "      <th>0</th>\n",
       "      <td>101116741</td>\n",
       "      <td>[999981634]</td>\n",
       "      <td>[]</td>\n",
       "      <td>[]</td>\n",
       "      <td>[]</td>\n",
       "      <td>1</td>\n",
       "    </tr>\n",
       "    <tr>\n",
       "      <th>1</th>\n",
       "      <td>101163161</td>\n",
       "      <td>[999990267]</td>\n",
       "      <td>[999997736, 999854855]</td>\n",
       "      <td>[]</td>\n",
       "      <td>[]</td>\n",
       "      <td>3</td>\n",
       "    </tr>\n",
       "    <tr>\n",
       "      <th>2</th>\n",
       "      <td>101160499</td>\n",
       "      <td>[999874546]</td>\n",
       "      <td>[]</td>\n",
       "      <td>[]</td>\n",
       "      <td>[]</td>\n",
       "      <td>1</td>\n",
       "    </tr>\n",
       "    <tr>\n",
       "      <th>3</th>\n",
       "      <td>101166905</td>\n",
       "      <td>[999990267]</td>\n",
       "      <td>[999983962, 999995893]</td>\n",
       "      <td>[]</td>\n",
       "      <td>[]</td>\n",
       "      <td>3</td>\n",
       "    </tr>\n",
       "    <tr>\n",
       "      <th>4</th>\n",
       "      <td>101162875</td>\n",
       "      <td>[999897341]</td>\n",
       "      <td>[999861354]</td>\n",
       "      <td>[]</td>\n",
       "      <td>[]</td>\n",
       "      <td>2</td>\n",
       "    </tr>\n",
       "  </tbody>\n",
       "</table>\n",
       "</div>"
      ],
      "text/plain": [
       "   projectID  coordinator             participant thirdParty  \\\n",
       "0  101116741  [999981634]                      []         []   \n",
       "1  101163161  [999990267]  [999997736, 999854855]         []   \n",
       "2  101160499  [999874546]                      []         []   \n",
       "3  101166905  [999990267]  [999983962, 999995893]         []   \n",
       "4  101162875  [999897341]             [999861354]         []   \n",
       "\n",
       "  associatedPartner  n_organisations  \n",
       "0                []                1  \n",
       "1                []                3  \n",
       "2                []                1  \n",
       "3                []                3  \n",
       "4                []                2  "
      ]
     },
     "execution_count": 24,
     "metadata": {},
     "output_type": "execute_result"
    }
   ],
   "source": [
    "project_summary.head()"
   ]
  },
  {
   "cell_type": "markdown",
   "id": "5b08786a",
   "metadata": {},
   "source": [
    "### Combining datasets"
   ]
  },
  {
   "cell_type": "code",
   "execution_count": null,
   "id": "2894ee43",
   "metadata": {},
   "outputs": [
    {
     "data": {
      "text/html": [
       "<div>\n",
       "<style scoped>\n",
       "    .dataframe tbody tr th:only-of-type {\n",
       "        vertical-align: middle;\n",
       "    }\n",
       "\n",
       "    .dataframe tbody tr th {\n",
       "        vertical-align: top;\n",
       "    }\n",
       "\n",
       "    .dataframe thead th {\n",
       "        text-align: right;\n",
       "    }\n",
       "</style>\n",
       "<table border=\"1\" class=\"dataframe\">\n",
       "  <thead>\n",
       "    <tr style=\"text-align: right;\">\n",
       "      <th></th>\n",
       "      <th>projectID</th>\n",
       "      <th>acronym</th>\n",
       "      <th>status</th>\n",
       "      <th>title</th>\n",
       "      <th>startDate</th>\n",
       "      <th>endDate</th>\n",
       "      <th>totalCost</th>\n",
       "      <th>ecMaxContribution</th>\n",
       "      <th>legalBasis</th>\n",
       "      <th>topics</th>\n",
       "      <th>...</th>\n",
       "      <th>similarity</th>\n",
       "      <th>coordinator</th>\n",
       "      <th>participant</th>\n",
       "      <th>thirdParty</th>\n",
       "      <th>associatedPartner</th>\n",
       "      <th>n_organisations</th>\n",
       "      <th>sciVocTopics</th>\n",
       "      <th>title_topic</th>\n",
       "      <th>title_legal</th>\n",
       "      <th>n_title_legals</th>\n",
       "    </tr>\n",
       "  </thead>\n",
       "  <tbody>\n",
       "    <tr>\n",
       "      <th>0</th>\n",
       "      <td>101116741</td>\n",
       "      <td>DOE</td>\n",
       "      <td>SIGNED</td>\n",
       "      <td>Digitizing Other Economies: A Comparative Appr...</td>\n",
       "      <td>2024-02-01</td>\n",
       "      <td>2029-01-31</td>\n",
       "      <td>1499998.0</td>\n",
       "      <td>1499998.0</td>\n",
       "      <td>HORIZON.1.1</td>\n",
       "      <td>ERC-2023-STG</td>\n",
       "      <td>...</td>\n",
       "      <td>0.108196</td>\n",
       "      <td>[999981634]</td>\n",
       "      <td>[]</td>\n",
       "      <td>[]</td>\n",
       "      <td>[]</td>\n",
       "      <td>1</td>\n",
       "      <td>[government systems]</td>\n",
       "      <td>ERC STARTING GRANTS</td>\n",
       "      <td>[European Research Council (ERC)]</td>\n",
       "      <td>1</td>\n",
       "    </tr>\n",
       "    <tr>\n",
       "      <th>1</th>\n",
       "      <td>101163161</td>\n",
       "      <td>IRASTRO</td>\n",
       "      <td>SIGNED</td>\n",
       "      <td>MOLECULAR QUANTUM DYNAMICS IN LOW TEMPERATURE ...</td>\n",
       "      <td>2025-08-01</td>\n",
       "      <td>2031-07-31</td>\n",
       "      <td>12085363.0</td>\n",
       "      <td>12085363.0</td>\n",
       "      <td>HORIZON.1.1</td>\n",
       "      <td>ERC-2024-SyG</td>\n",
       "      <td>...</td>\n",
       "      <td>-0.062839</td>\n",
       "      <td>[999990267]</td>\n",
       "      <td>[999997736, 999854855]</td>\n",
       "      <td>[]</td>\n",
       "      <td>[]</td>\n",
       "      <td>3</td>\n",
       "      <td>[grains and oilseeds, microscopy, astrochemist...</td>\n",
       "      <td>ERC SYNERGY GRANTS</td>\n",
       "      <td>[European Research Council (ERC)]</td>\n",
       "      <td>1</td>\n",
       "    </tr>\n",
       "    <tr>\n",
       "      <th>2</th>\n",
       "      <td>101160499</td>\n",
       "      <td>In-phase</td>\n",
       "      <td>SIGNED</td>\n",
       "      <td>Multiscale modelling of aberrant phase transit...</td>\n",
       "      <td>2025-06-01</td>\n",
       "      <td>2030-05-31</td>\n",
       "      <td>1489128.0</td>\n",
       "      <td>1489128.0</td>\n",
       "      <td>HORIZON.1.1</td>\n",
       "      <td>ERC-2024-STG</td>\n",
       "      <td>...</td>\n",
       "      <td>-0.017198</td>\n",
       "      <td>[999874546]</td>\n",
       "      <td>[]</td>\n",
       "      <td>[]</td>\n",
       "      <td>[]</td>\n",
       "      <td>1</td>\n",
       "      <td>[proteins, RNA]</td>\n",
       "      <td>ERC STARTING GRANTS</td>\n",
       "      <td>[European Research Council (ERC)]</td>\n",
       "      <td>1</td>\n",
       "    </tr>\n",
       "    <tr>\n",
       "      <th>3</th>\n",
       "      <td>101166905</td>\n",
       "      <td>mw-atlas</td>\n",
       "      <td>SIGNED</td>\n",
       "      <td>The first comprehensive Atlas of the Milky Way</td>\n",
       "      <td>2025-05-01</td>\n",
       "      <td>2031-04-30</td>\n",
       "      <td>9957560.0</td>\n",
       "      <td>9957560.0</td>\n",
       "      <td>HORIZON.1.1</td>\n",
       "      <td>ERC-2024-SyG</td>\n",
       "      <td>...</td>\n",
       "      <td>-0.032123</td>\n",
       "      <td>[999990267]</td>\n",
       "      <td>[999983962, 999995893]</td>\n",
       "      <td>[]</td>\n",
       "      <td>[]</td>\n",
       "      <td>3</td>\n",
       "      <td>[cartography, astrophysics, physical cosmology]</td>\n",
       "      <td>ERC SYNERGY GRANTS</td>\n",
       "      <td>[European Research Council (ERC)]</td>\n",
       "      <td>1</td>\n",
       "    </tr>\n",
       "    <tr>\n",
       "      <th>4</th>\n",
       "      <td>101162875</td>\n",
       "      <td>MAtCHLESS</td>\n",
       "      <td>SIGNED</td>\n",
       "      <td>Untapping multiparametric 2D luminescence sens...</td>\n",
       "      <td>2025-03-01</td>\n",
       "      <td>2030-02-28</td>\n",
       "      <td>1500000.0</td>\n",
       "      <td>1500000.0</td>\n",
       "      <td>HORIZON.1.1</td>\n",
       "      <td>ERC-2024-STG</td>\n",
       "      <td>...</td>\n",
       "      <td>-0.126014</td>\n",
       "      <td>[999897341]</td>\n",
       "      <td>[999861354]</td>\n",
       "      <td>[]</td>\n",
       "      <td>[]</td>\n",
       "      <td>2</td>\n",
       "      <td>[planets, sensors, oncology, microbiology]</td>\n",
       "      <td>ERC STARTING GRANTS</td>\n",
       "      <td>[European Research Council (ERC)]</td>\n",
       "      <td>1</td>\n",
       "    </tr>\n",
       "  </tbody>\n",
       "</table>\n",
       "<p>5 rows × 25 columns</p>\n",
       "</div>"
      ],
      "text/plain": [
       "   projectID    acronym  status  \\\n",
       "0  101116741        DOE  SIGNED   \n",
       "1  101163161    IRASTRO  SIGNED   \n",
       "2  101160499   In-phase  SIGNED   \n",
       "3  101166905   mw-atlas  SIGNED   \n",
       "4  101162875  MAtCHLESS  SIGNED   \n",
       "\n",
       "                                               title  startDate    endDate  \\\n",
       "0  Digitizing Other Economies: A Comparative Appr... 2024-02-01 2029-01-31   \n",
       "1  MOLECULAR QUANTUM DYNAMICS IN LOW TEMPERATURE ... 2025-08-01 2031-07-31   \n",
       "2  Multiscale modelling of aberrant phase transit... 2025-06-01 2030-05-31   \n",
       "3     The first comprehensive Atlas of the Milky Way 2025-05-01 2031-04-30   \n",
       "4  Untapping multiparametric 2D luminescence sens... 2025-03-01 2030-02-28   \n",
       "\n",
       "    totalCost  ecMaxContribution   legalBasis        topics  ... similarity  \\\n",
       "0   1499998.0          1499998.0  HORIZON.1.1  ERC-2023-STG  ...   0.108196   \n",
       "1  12085363.0         12085363.0  HORIZON.1.1  ERC-2024-SyG  ...  -0.062839   \n",
       "2   1489128.0          1489128.0  HORIZON.1.1  ERC-2024-STG  ...  -0.017198   \n",
       "3   9957560.0          9957560.0  HORIZON.1.1  ERC-2024-SyG  ...  -0.032123   \n",
       "4   1500000.0          1500000.0  HORIZON.1.1  ERC-2024-STG  ...  -0.126014   \n",
       "\n",
       "   coordinator             participant thirdParty associatedPartner  \\\n",
       "0  [999981634]                      []         []                []   \n",
       "1  [999990267]  [999997736, 999854855]         []                []   \n",
       "2  [999874546]                      []         []                []   \n",
       "3  [999990267]  [999983962, 999995893]         []                []   \n",
       "4  [999897341]             [999861354]         []                []   \n",
       "\n",
       "   n_organisations                                       sciVocTopics  \\\n",
       "0                1                               [government systems]   \n",
       "1                3  [grains and oilseeds, microscopy, astrochemist...   \n",
       "2                1                                    [proteins, RNA]   \n",
       "3                3    [cartography, astrophysics, physical cosmology]   \n",
       "4                2         [planets, sensors, oncology, microbiology]   \n",
       "\n",
       "           title_topic                        title_legal n_title_legals  \n",
       "0  ERC STARTING GRANTS  [European Research Council (ERC)]              1  \n",
       "1   ERC SYNERGY GRANTS  [European Research Council (ERC)]              1  \n",
       "2  ERC STARTING GRANTS  [European Research Council (ERC)]              1  \n",
       "3   ERC SYNERGY GRANTS  [European Research Council (ERC)]              1  \n",
       "4  ERC STARTING GRANTS  [European Research Council (ERC)]              1  \n",
       "\n",
       "[5 rows x 25 columns]"
      ]
     },
     "execution_count": 128,
     "metadata": {},
     "output_type": "execute_result"
    }
   ],
   "source": [
    "project = project.rename(columns={\"id\": \"projectID\"})\n",
    "\n",
    "project_merged = (project\n",
    "                  .merge(project_summary, on=\"projectID\", how=\"left\")\n",
    "                  .merge(scivoc_summary, on=\"projectID\", how=\"left\")\n",
    "                  .merge(topics[[\"projectID\", \"title_topic\"]], on=\"projectID\", how=\"left\")\n",
    "                  .merge(legal_summary, on=\"projectID\", how=\"left\")\n",
    "                  .drop(columns=[\"ecSignatureDate\", \"nature\",\"contentUpdateDate\",\"rcn\",\"grantDoi\"])\n",
    ")\n",
    "project_merged.head()\n",
    "\n"
   ]
  },
  {
   "cell_type": "code",
   "execution_count": 156,
   "id": "ef60aa4d",
   "metadata": {},
   "outputs": [],
   "source": [
    "project_merged[\"avg_funding_per_participant\"] = project_merged.apply(\n",
    "    lambda row: row[\"ecMaxContribution\"] / row[\"n_organisations\"] if row[\"n_organisations\"] > 0 else None,\n",
    "    axis=1\n",
    ")\n",
    "\n",
    "project_merged[\"duration_years\"] = (\n",
    "    (project_merged[\"endDate\"] - project_merged[\"startDate\"]).dt.days / 365.25\n",
    ")\n",
    "\n",
    "project_merged[\"avg_annual_funding_per_participant\"] = project_merged.apply(\n",
    "    lambda row: row[\"ecMaxContribution\"] / (row[\"n_organisations\"] * row[\"duration_years\"])\n",
    "    if row[\"n_organisations\"] > 0 and row[\"duration_years\"] > 0 else None,\n",
    "    axis=1\n",
    ")\n",
    "\n",
    "project_merged[\"avg_funding_per_participant\"] = project_merged[\"avg_funding_per_participant\"].round(2)\n",
    "project_merged[\"avg_annual_funding_per_participant\"] = project_merged[\"avg_annual_funding_per_participant\"].round(2)\n",
    "\n",
    "project_merged[\"cordis_project_url\"] = \"https://cordis.europa.eu/project/id/\" + project_merged[\"projectID\"].astype(str)\n",
    "project_merged[\"cordis_funding_url\"] = \"https://cordis.europa.eu/programme/id/HORIZON_\" + project_merged[\"topics\"].astype(str)\n",
    "\n",
    "project_merged[\"funding_id\"] = \"HORIZON_\" + project_merged[\"topics\"].astype(str)\n",
    "\n",
    "project_merged = project_merged.merge(\n",
    "    programme[[\"id\", \"objective\"]].rename(columns={\"id\": \"funding_id\", \"objective\": \"topic_objective\"}),\n",
    "    on=\"funding_id\",\n",
    "    how=\"left\"\n",
    ")\n",
    "\n"
   ]
  },
  {
   "cell_type": "code",
   "execution_count": 157,
   "id": "b134b2b1",
   "metadata": {},
   "outputs": [
    {
     "data": {
      "text/plain": [
       "projectID                                      int64\n",
       "acronym                                       object\n",
       "status                                      category\n",
       "title                                 string[python]\n",
       "startDate                             datetime64[ns]\n",
       "endDate                               datetime64[ns]\n",
       "totalCost                                    float64\n",
       "ecMaxContribution                            float64\n",
       "legalBasis                                  category\n",
       "topics                                      category\n",
       "frameworkProgramme                          category\n",
       "masterCall                                  category\n",
       "subCall                                     category\n",
       "fundingScheme                               category\n",
       "objective                             string[python]\n",
       "similarity                                   float32\n",
       "coordinator                                   object\n",
       "participant                                   object\n",
       "thirdParty                                    object\n",
       "associatedPartner                             object\n",
       "n_organisations                                int64\n",
       "sciVocTopics                                  object\n",
       "title_topic                           string[python]\n",
       "title_legal                                   object\n",
       "n_title_legals                                 int64\n",
       "avg_funding_per_participant                  float64\n",
       "duration_years                               float64\n",
       "avg_annual_funding_per_participant           float64\n",
       "cordis_project_url                            object\n",
       "cordis_funding_url                            object\n",
       "funding_id                                    object\n",
       "topic_objective                               object\n",
       "dtype: object"
      ]
     },
     "execution_count": 157,
     "metadata": {},
     "output_type": "execute_result"
    }
   ],
   "source": [
    "project_merged.dtypes"
   ]
  },
  {
   "cell_type": "code",
   "execution_count": 158,
   "id": "6255b11d",
   "metadata": {},
   "outputs": [],
   "source": [
    "project_merged[\"sciVocTopics\"] = project_merged[\"sciVocTopics\"].apply(\n",
    "    lambda x: x if isinstance(x, list) else []\n",
    ")"
   ]
  },
  {
   "cell_type": "markdown",
   "id": "b5ec65ab",
   "metadata": {},
   "source": [
    "## EDA"
   ]
  },
  {
   "cell_type": "markdown",
   "id": "bd958224",
   "metadata": {},
   "source": [
    "### project_merged"
   ]
  },
  {
   "cell_type": "markdown",
   "id": "ce5b060b",
   "metadata": {},
   "source": [
    "#### Status"
   ]
  },
  {
   "cell_type": "code",
   "execution_count": 110,
   "id": "311543f8",
   "metadata": {},
   "outputs": [
    {
     "data": {
      "image/png": "[encoded data removed]",
      "text/plain": [
       "<Figure size 800x400 with 1 Axes>"
      ]
     },
     "metadata": {},
     "output_type": "display_data"
    }
   ],
   "source": [
    "project_merged[\"status\"].value_counts()\n",
    "project_merged[\"status\"].value_counts(normalize=True).round(3) * 100\n",
    "\n",
    "plt.figure(figsize=(8, 4))\n",
    "sns.countplot(data=project_merged, y=\"status\", order=project_merged[\"status\"].value_counts().index)\n",
    "plt.title(\"Project Counts by Status\")\n",
    "plt.xlabel(\"Count\")\n",
    "plt.ylabel(\"Status\")\n",
    "plt.show()\n"
   ]
  },
  {
   "cell_type": "markdown",
   "id": "62bc39c9",
   "metadata": {},
   "source": [
    "#### Total Cost"
   ]
  },
  {
   "cell_type": "code",
   "execution_count": 111,
   "id": "bcc335ab",
   "metadata": {},
   "outputs": [
    {
     "name": "stdout",
     "output_type": "stream",
     "text": [
      "Percentage of zero-cost projects: 42.79%\n"
     ]
    }
   ],
   "source": [
    "zero_pct = (project_merged[\"totalCost\"] == 0).sum()/len(project_merged)*100\n",
    "print(f\"Percentage of zero-cost projects: {zero_pct:.2f}%\")\n"
   ]
  },
  {
   "cell_type": "code",
   "execution_count": 112,
   "id": "198ae035",
   "metadata": {},
   "outputs": [
    {
     "data": {
      "image/png": "[encoded data removed]",
      "text/plain": [
       "<Figure size 800x400 with 1 Axes>"
      ]
     },
     "metadata": {},
     "output_type": "display_data"
    }
   ],
   "source": [
    "\n",
    "# Filter out zero-cost projects\n",
    "project_nonzero = project_merged[project_merged[\"totalCost\"] > 0]\n",
    "\n",
    "plt.figure(figsize=(8, 4))\n",
    "sns.histplot(np.log10(project_nonzero[\"totalCost\"]), bins=50, kde=True)\n",
    "plt.title(\"Log10 Distribution of Total Cost (Excl. 0s)\")\n",
    "plt.xlabel(\"Log10(Total Cost €)\")\n",
    "plt.show()\n",
    "\n",
    "\n",
    "\n"
   ]
  },
  {
   "cell_type": "code",
   "execution_count": 113,
   "id": "10e5457b",
   "metadata": {},
   "outputs": [
    {
     "data": {
      "image/png": "[encoded data removed]",
      "text/plain": [
       "<Figure size 1000x100 with 1 Axes>"
      ]
     },
     "metadata": {},
     "output_type": "display_data"
    }
   ],
   "source": [
    "plt.figure(figsize=(10, 1))\n",
    "sns.boxplot(x=np.log10(project_nonzero[\"totalCost\"]))\n",
    "plt.title(\"Boxplot of Total Cost\")\n",
    "plt.show()\n"
   ]
  },
  {
   "cell_type": "markdown",
   "id": "c5e52443",
   "metadata": {},
   "source": [
    "Average Cost per Particpant & Average Annual Cost per Participant"
   ]
  },
  {
   "cell_type": "code",
   "execution_count": 114,
   "id": "255b464d",
   "metadata": {},
   "outputs": [
    {
     "data": {
      "image/png": "[encoded data removed]",
      "text/plain": [
       "<Figure size 800x400 with 1 Axes>"
      ]
     },
     "metadata": {},
     "output_type": "display_data"
    }
   ],
   "source": [
    "plt.figure(figsize=(8, 4))\n",
    "sns.histplot(np.log10(project_nonzero[\"avg_funding_per_participant\"]), bins=50, kde=True)\n",
    "plt.title(\"Log10 Distribution of Average Cost per Participant (Excl. 0s)\")\n",
    "plt.xlabel(\"Log10(Total Cost €)\")\n",
    "plt.show()\n"
   ]
  },
  {
   "cell_type": "code",
   "execution_count": 115,
   "id": "6e42d4b3",
   "metadata": {},
   "outputs": [
    {
     "data": {
      "image/png": "[encoded data removed]",
      "text/plain": [
       "<Figure size 800x400 with 1 Axes>"
      ]
     },
     "metadata": {},
     "output_type": "display_data"
    }
   ],
   "source": [
    "plt.figure(figsize=(8, 4))\n",
    "sns.histplot(np.log10(project_nonzero[\"avg_annual_funding_per_participant\"]), bins=50, kde=True)\n",
    "plt.title(\"Log10 Distribution of Average Annual Cost per Participant (Excl. 0s)\")\n",
    "plt.xlabel(\"Log10(Total Cost €)\")\n",
    "plt.show()\n"
   ]
  },
  {
   "cell_type": "markdown",
   "id": "2e1e4ee7",
   "metadata": {},
   "source": [
    "#### Start Dates"
   ]
  },
  {
   "cell_type": "code",
   "execution_count": 116,
   "id": "82576a2f",
   "metadata": {},
   "outputs": [
    {
     "data": {
      "image/png": "[encoded data removed]",
      "text/plain": [
       "<Figure size 1000x400 with 1 Axes>"
      ]
     },
     "metadata": {},
     "output_type": "display_data"
    }
   ],
   "source": [
    "project_merged[\"startYear\"] = project_merged[\"startDate\"].dt.year\n",
    "\n",
    "plt.figure(figsize=(10, 4))\n",
    "sns.countplot(data=project_merged, x=\"startYear\", order=sorted(project_merged[\"startYear\"].dropna().unique()))\n",
    "plt.xticks(rotation=45)\n",
    "plt.title(\"Projects Started Per Year\")\n",
    "plt.xlabel(\"Year\")\n",
    "plt.ylabel(\"Count\")\n",
    "plt.show()\n"
   ]
  },
  {
   "cell_type": "code",
   "execution_count": 117,
   "id": "0d8acac7",
   "metadata": {},
   "outputs": [
    {
     "data": {
      "image/png": "[encoded data removed]",
      "text/plain": [
       "<Figure size 800x400 with 1 Axes>"
      ]
     },
     "metadata": {},
     "output_type": "display_data"
    }
   ],
   "source": [
    "plt.figure(figsize=(8, 4))\n",
    "sns.histplot((project_merged[\"duration_years\"]), bins=10)\n",
    "plt.title(\"Distribution of Project Duration (yrs)\")\n",
    "plt.show()\n"
   ]
  },
  {
   "cell_type": "markdown",
   "id": "ffc33ad1",
   "metadata": {},
   "source": [
    "#### Number of Organisations per Project"
   ]
  },
  {
   "cell_type": "code",
   "execution_count": 118,
   "id": "e23b6d39",
   "metadata": {},
   "outputs": [
    {
     "data": {
      "image/png": "[encoded data removed]",
      "text/plain": [
       "<Figure size 1000x200 with 1 Axes>"
      ]
     },
     "metadata": {},
     "output_type": "display_data"
    }
   ],
   "source": [
    "plt.figure(figsize=(10, 2))\n",
    "sns.boxplot(x=project_merged[\"n_organisations\"], color=\"skyblue\")\n",
    "\n",
    "plt.title(\"Boxplot of Number of Organisations per Project\")\n",
    "plt.xlabel(\"Number of Organisations\")\n",
    "plt.grid(True, axis='x')\n",
    "plt.tight_layout()\n",
    "plt.show()\n"
   ]
  },
  {
   "cell_type": "markdown",
   "id": "64cc8281",
   "metadata": {},
   "source": [
    "a few very large collaborations (EU priority projects?), but ~50% <= 3 and the rest <=24"
   ]
  },
  {
   "cell_type": "code",
   "execution_count": 119,
   "id": "2c68e6fe",
   "metadata": {},
   "outputs": [
    {
     "data": {
      "image/png": "[encoded data removed]",
      "text/plain": [
       "<Figure size 800x400 with 1 Axes>"
      ]
     },
     "metadata": {},
     "output_type": "display_data"
    }
   ],
   "source": [
    "plt.figure(figsize=(8, 4))\n",
    "sns.histplot(\n",
    "    data=project_merged[project_merged[\"n_organisations\"] <= 25],\n",
    "    x=\"n_organisations\",\n",
    "    bins=48\n",
    ")\n",
    "\n",
    "plt.title(\"Number of Organisations per Project (5 to 25)\")\n",
    "plt.xlabel(\"Number of Organisations\")\n",
    "plt.ylabel(\"Number of Projects\")\n",
    "plt.grid(True)\n",
    "plt.tight_layout()\n",
    "plt.show()\n"
   ]
  },
  {
   "cell_type": "code",
   "execution_count": 120,
   "id": "d3a3219d",
   "metadata": {},
   "outputs": [
    {
     "data": {
      "image/png": "[encoded data removed]",
      "text/plain": [
       "<Figure size 800x500 with 1 Axes>"
      ]
     },
     "metadata": {},
     "output_type": "display_data"
    }
   ],
   "source": [
    "plt.figure(figsize=(8, 5))\n",
    "subset = project_merged[project_merged[\"totalCost\"] > 0]\n",
    "\n",
    "sns.scatterplot(data=subset, x=\"n_organisations\", y=\"totalCost\")\n",
    "\n",
    "plt.yscale(\"log\")\n",
    "plt.ylabel(\"Total Cost (€) [log scale]\")\n",
    "\n",
    "plt.title(\"Number of Organisations vs Total Cost (Excluding 0s)\")\n",
    "plt.xlabel(\"Number of Organisations\")\n",
    "plt.grid(True)\n",
    "plt.tight_layout()\n",
    "plt.show()\n"
   ]
  },
  {
   "cell_type": "markdown",
   "id": "0c054c6a",
   "metadata": {},
   "source": [
    "## Vectorise Text: testing"
   ]
  },
  {
   "cell_type": "markdown",
   "id": "8a82bccc",
   "metadata": {},
   "source": [
    "### First attempt- combining objective and sciVoc topics to predict similar projects"
   ]
  },
  {
   "cell_type": "code",
   "execution_count": 27,
   "id": "abe95d68",
   "metadata": {},
   "outputs": [],
   "source": [
    "objective_texts = project_merged[\"title\"].fillna(\"\") + \" \"+project_merged[\"objective\"].fillna(\"\") + \" \" + project_merged[\"sciVocTopics\"].apply(lambda x: \" \".join(x) if isinstance(x, list) else \"\")\n"
   ]
  },
  {
   "cell_type": "code",
   "execution_count": 29,
   "id": "1f150022",
   "metadata": {},
   "outputs": [
    {
     "data": {
      "application/vnd.jupyter.widget-view+json": {
       "model_id": "8b2cb91f7b5a4e9b95d3e71853b77272",
       "version_major": 2,
       "version_minor": 0
      },
      "text/plain": [
       "Batches:   0%|          | 0/480 [00:00<?, ?it/s]"
      ]
     },
     "metadata": {},
     "output_type": "display_data"
    }
   ],
   "source": [
    "\n",
    "model = SentenceTransformer('all-MiniLM-L6-v2')\n",
    "project_vectors = model.encode(objective_texts, show_progress_bar=True)\n"
   ]
  },
  {
   "cell_type": "code",
   "execution_count": 32,
   "id": "d2076af0",
   "metadata": {},
   "outputs": [],
   "source": [
    "user_input = \"war in the balkans\"\n",
    "input_vec = model.encode([user_input])  # or vectorizer.transform([user_input])\n",
    "\n",
    "sims = cosine_similarity(input_vec, project_vectors)[0]\n",
    "project[\"similarity\"] = sims\n",
    "\n",
    "top_matches = project.sort_values(\"similarity\", ascending=False).head(10)\n"
   ]
  },
  {
   "cell_type": "code",
   "execution_count": 33,
   "id": "971efb91",
   "metadata": {},
   "outputs": [
    {
     "data": {
      "text/html": [
       "<div>\n",
       "<style scoped>\n",
       "    .dataframe tbody tr th:only-of-type {\n",
       "        vertical-align: middle;\n",
       "    }\n",
       "\n",
       "    .dataframe tbody tr th {\n",
       "        vertical-align: top;\n",
       "    }\n",
       "\n",
       "    .dataframe thead th {\n",
       "        text-align: right;\n",
       "    }\n",
       "</style>\n",
       "<table border=\"1\" class=\"dataframe\">\n",
       "  <thead>\n",
       "    <tr style=\"text-align: right;\">\n",
       "      <th></th>\n",
       "      <th>projectID</th>\n",
       "      <th>acronym</th>\n",
       "      <th>status</th>\n",
       "      <th>title</th>\n",
       "      <th>startDate</th>\n",
       "      <th>endDate</th>\n",
       "      <th>totalCost</th>\n",
       "      <th>ecMaxContribution</th>\n",
       "      <th>legalBasis</th>\n",
       "      <th>topics</th>\n",
       "      <th>...</th>\n",
       "      <th>frameworkProgramme</th>\n",
       "      <th>masterCall</th>\n",
       "      <th>subCall</th>\n",
       "      <th>fundingScheme</th>\n",
       "      <th>nature</th>\n",
       "      <th>objective</th>\n",
       "      <th>contentUpdateDate</th>\n",
       "      <th>rcn</th>\n",
       "      <th>grantDoi</th>\n",
       "      <th>similarity</th>\n",
       "    </tr>\n",
       "  </thead>\n",
       "  <tbody>\n",
       "    <tr>\n",
       "      <th>8504</th>\n",
       "      <td>101077076</td>\n",
       "      <td>MACAUTH</td>\n",
       "      <td>SIGNED</td>\n",
       "      <td>Screening Souls, Building Nations. Macedonia(s...</td>\n",
       "      <td>2023-03-01</td>\n",
       "      <td>2028-02-29</td>\n",
       "      <td>1467800.0</td>\n",
       "      <td>1467800.00</td>\n",
       "      <td>HORIZON.1.1</td>\n",
       "      <td>ERC-2022-STG</td>\n",
       "      <td>...</td>\n",
       "      <td>HORIZON</td>\n",
       "      <td>ERC-2022-STG</td>\n",
       "      <td>ERC-2022-STG</td>\n",
       "      <td>HORIZON-ERC</td>\n",
       "      <td>NaN</td>\n",
       "      <td>The project aims to investigate a little-explo...</td>\n",
       "      <td>2023-02-24 16:40:29</td>\n",
       "      <td>244669</td>\n",
       "      <td>10.3030/101077076</td>\n",
       "      <td>0.524238</td>\n",
       "    </tr>\n",
       "    <tr>\n",
       "      <th>8808</th>\n",
       "      <td>101054647</td>\n",
       "      <td>CivilWars</td>\n",
       "      <td>SIGNED</td>\n",
       "      <td>The Age of Civil Wars in Europe, c. 1914-1949</td>\n",
       "      <td>2022-09-01</td>\n",
       "      <td>2027-08-31</td>\n",
       "      <td>2499940.0</td>\n",
       "      <td>2499940.00</td>\n",
       "      <td>HORIZON.1.1</td>\n",
       "      <td>ERC-2021-ADG</td>\n",
       "      <td>...</td>\n",
       "      <td>HORIZON</td>\n",
       "      <td>ERC-2021-ADG</td>\n",
       "      <td>ERC-2021-ADG</td>\n",
       "      <td>HORIZON-AG</td>\n",
       "      <td>NaN</td>\n",
       "      <td>In the first half of the twentieth century, Eu...</td>\n",
       "      <td>2022-08-17 19:38:06</td>\n",
       "      <td>239893</td>\n",
       "      <td>10.3030/101054647</td>\n",
       "      <td>0.498318</td>\n",
       "    </tr>\n",
       "    <tr>\n",
       "      <th>10648</th>\n",
       "      <td>101106810</td>\n",
       "      <td>Expertise</td>\n",
       "      <td>SIGNED</td>\n",
       "      <td>Serving the revolution: educational networks i...</td>\n",
       "      <td>2024-06-01</td>\n",
       "      <td>2026-05-31</td>\n",
       "      <td>0.0</td>\n",
       "      <td>173847.36</td>\n",
       "      <td>HORIZON.1.2</td>\n",
       "      <td>HORIZON-MSCA-2022-PF-01-01</td>\n",
       "      <td>...</td>\n",
       "      <td>HORIZON</td>\n",
       "      <td>HORIZON-MSCA-2022-PF-01</td>\n",
       "      <td>HORIZON-MSCA-2022-PF-01</td>\n",
       "      <td>HORIZON-TMA-MSCA-PF-EF</td>\n",
       "      <td>NaN</td>\n",
       "      <td>My research explores the educational networks ...</td>\n",
       "      <td>2023-07-24 11:33:34</td>\n",
       "      <td>254604</td>\n",
       "      <td>10.3030/101106810</td>\n",
       "      <td>0.489106</td>\n",
       "    </tr>\n",
       "    <tr>\n",
       "      <th>4161</th>\n",
       "      <td>101149179</td>\n",
       "      <td>Power and the Past</td>\n",
       "      <td>SIGNED</td>\n",
       "      <td>Power and the Past: European Empires and Archa...</td>\n",
       "      <td>2024-10-01</td>\n",
       "      <td>2026-09-30</td>\n",
       "      <td>0.0</td>\n",
       "      <td>199440.96</td>\n",
       "      <td>HORIZON.1.2</td>\n",
       "      <td>HORIZON-MSCA-2023-PF-01-01</td>\n",
       "      <td>...</td>\n",
       "      <td>HORIZON</td>\n",
       "      <td>HORIZON-MSCA-2023-PF-01</td>\n",
       "      <td>HORIZON-MSCA-2023-PF-01</td>\n",
       "      <td>HORIZON-TMA-MSCA-PF-EF</td>\n",
       "      <td>NaN</td>\n",
       "      <td>\"This project compares the archaeological rese...</td>\n",
       "      <td>2024-04-29 11:34:30</td>\n",
       "      <td>263027</td>\n",
       "      <td>10.3030/101149179</td>\n",
       "      <td>0.488710</td>\n",
       "    </tr>\n",
       "    <tr>\n",
       "      <th>5018</th>\n",
       "      <td>101063876</td>\n",
       "      <td>camPEconomies</td>\n",
       "      <td>SIGNED</td>\n",
       "      <td>Political Economies of Refugee Camps</td>\n",
       "      <td>2023-09-01</td>\n",
       "      <td>2025-08-31</td>\n",
       "      <td>0.0</td>\n",
       "      <td>173847.36</td>\n",
       "      <td>HORIZON.1.2</td>\n",
       "      <td>HORIZON-MSCA-2021-PF-01-01</td>\n",
       "      <td>...</td>\n",
       "      <td>HORIZON</td>\n",
       "      <td>HORIZON-MSCA-2021-PF-01</td>\n",
       "      <td>HORIZON-MSCA-2021-PF-01</td>\n",
       "      <td>HORIZON-TMA-MSCA-PF-EF</td>\n",
       "      <td>NaN</td>\n",
       "      <td>The camPEconomies project explores a crucial a...</td>\n",
       "      <td>2022-08-26 15:30:12</td>\n",
       "      <td>240252</td>\n",
       "      <td>10.3030/101063876</td>\n",
       "      <td>0.486182</td>\n",
       "    </tr>\n",
       "    <tr>\n",
       "      <th>2350</th>\n",
       "      <td>101132692</td>\n",
       "      <td>GEO-POWER-EU</td>\n",
       "      <td>SIGNED</td>\n",
       "      <td>Empowering the Geopolitical EU in the Eastern ...</td>\n",
       "      <td>2024-06-01</td>\n",
       "      <td>2027-05-31</td>\n",
       "      <td>2999980.0</td>\n",
       "      <td>2999980.00</td>\n",
       "      <td>HORIZON.2.2</td>\n",
       "      <td>HORIZON-CL2-2023-DEMOCRACY-01-08</td>\n",
       "      <td>...</td>\n",
       "      <td>HORIZON</td>\n",
       "      <td>HORIZON-CL2-2023-DEMOCRACY-01</td>\n",
       "      <td>HORIZON-CL2-2023-DEMOCRACY-01</td>\n",
       "      <td>HORIZON-RIA</td>\n",
       "      <td>NaN</td>\n",
       "      <td>GEO-POWER-EU's main objective is to contribute...</td>\n",
       "      <td>2024-05-17 09:57:34</td>\n",
       "      <td>263470</td>\n",
       "      <td>10.3030/101132692</td>\n",
       "      <td>0.459974</td>\n",
       "    </tr>\n",
       "    <tr>\n",
       "      <th>8262</th>\n",
       "      <td>101054963</td>\n",
       "      <td>OPEN BORDERS</td>\n",
       "      <td>SIGNED</td>\n",
       "      <td>Cold War Europe Beyond Borders. A Transnationa...</td>\n",
       "      <td>2023-01-01</td>\n",
       "      <td>2027-12-31</td>\n",
       "      <td>2474330.0</td>\n",
       "      <td>2474330.00</td>\n",
       "      <td>HORIZON.1.1</td>\n",
       "      <td>ERC-2021-ADG</td>\n",
       "      <td>...</td>\n",
       "      <td>HORIZON</td>\n",
       "      <td>ERC-2021-ADG</td>\n",
       "      <td>ERC-2021-ADG</td>\n",
       "      <td>HORIZON-AG</td>\n",
       "      <td>NaN</td>\n",
       "      <td>\"This project aims to rethink the history of C...</td>\n",
       "      <td>2022-08-02 16:57:16</td>\n",
       "      <td>238852</td>\n",
       "      <td>10.3030/101054963</td>\n",
       "      <td>0.458768</td>\n",
       "    </tr>\n",
       "    <tr>\n",
       "      <th>6453</th>\n",
       "      <td>101054428</td>\n",
       "      <td>TheGAME</td>\n",
       "      <td>SIGNED</td>\n",
       "      <td>The Game: Counter-mapping informal refugee mob...</td>\n",
       "      <td>2022-11-01</td>\n",
       "      <td>2027-10-31</td>\n",
       "      <td>2473760.0</td>\n",
       "      <td>2473760.00</td>\n",
       "      <td>HORIZON.1.1</td>\n",
       "      <td>ERC-2021-ADG</td>\n",
       "      <td>...</td>\n",
       "      <td>HORIZON</td>\n",
       "      <td>ERC-2021-ADG</td>\n",
       "      <td>ERC-2021-ADG</td>\n",
       "      <td>ERC</td>\n",
       "      <td>NaN</td>\n",
       "      <td>The Balkan Route is the most important overlan...</td>\n",
       "      <td>2022-10-10 13:50:16</td>\n",
       "      <td>242402</td>\n",
       "      <td>10.3030/101054428</td>\n",
       "      <td>0.443885</td>\n",
       "    </tr>\n",
       "    <tr>\n",
       "      <th>4632</th>\n",
       "      <td>101149227</td>\n",
       "      <td>FESTWAR FM</td>\n",
       "      <td>SIGNED</td>\n",
       "      <td>Film Festivals and War: A Fe-Male Perspective ...</td>\n",
       "      <td>2025-02-01</td>\n",
       "      <td>2028-01-31</td>\n",
       "      <td>0.0</td>\n",
       "      <td>280202.88</td>\n",
       "      <td>HORIZON.1.2</td>\n",
       "      <td>HORIZON-MSCA-2023-PF-01-01</td>\n",
       "      <td>...</td>\n",
       "      <td>HORIZON</td>\n",
       "      <td>HORIZON-MSCA-2023-PF-01</td>\n",
       "      <td>HORIZON-MSCA-2023-PF-01</td>\n",
       "      <td>HORIZON-TMA-MSCA-PF-GF</td>\n",
       "      <td>NaN</td>\n",
       "      <td>A transdisciplinary project traversing cultura...</td>\n",
       "      <td>2024-04-16 18:34:51</td>\n",
       "      <td>262556</td>\n",
       "      <td>10.3030/101149227</td>\n",
       "      <td>0.436191</td>\n",
       "    </tr>\n",
       "    <tr>\n",
       "      <th>8532</th>\n",
       "      <td>101089123</td>\n",
       "      <td>STONE</td>\n",
       "      <td>SIGNED</td>\n",
       "      <td>Unde venis? Unraveling the enigma of stećci to...</td>\n",
       "      <td>2024-05-01</td>\n",
       "      <td>2029-04-30</td>\n",
       "      <td>2778380.0</td>\n",
       "      <td>2778380.00</td>\n",
       "      <td>HORIZON.1.1</td>\n",
       "      <td>ERC-2022-COG</td>\n",
       "      <td>...</td>\n",
       "      <td>HORIZON</td>\n",
       "      <td>ERC-2022-COG</td>\n",
       "      <td>ERC-2022-COG</td>\n",
       "      <td>HORIZON-ERC</td>\n",
       "      <td>NaN</td>\n",
       "      <td>Stećci are medieval tombstones dispersed throu...</td>\n",
       "      <td>2024-01-10 16:26:24</td>\n",
       "      <td>257734</td>\n",
       "      <td>10.3030/101089123</td>\n",
       "      <td>0.434567</td>\n",
       "    </tr>\n",
       "  </tbody>\n",
       "</table>\n",
       "<p>10 rows × 21 columns</p>\n",
       "</div>"
      ],
      "text/plain": [
       "       projectID             acronym  status  \\\n",
       "8504   101077076             MACAUTH  SIGNED   \n",
       "8808   101054647           CivilWars  SIGNED   \n",
       "10648  101106810           Expertise  SIGNED   \n",
       "4161   101149179  Power and the Past  SIGNED   \n",
       "5018   101063876       camPEconomies  SIGNED   \n",
       "2350   101132692        GEO-POWER-EU  SIGNED   \n",
       "8262   101054963        OPEN BORDERS  SIGNED   \n",
       "6453   101054428             TheGAME  SIGNED   \n",
       "4632   101149227          FESTWAR FM  SIGNED   \n",
       "8532   101089123               STONE  SIGNED   \n",
       "\n",
       "                                                   title  startDate  \\\n",
       "8504   Screening Souls, Building Nations. Macedonia(s... 2023-03-01   \n",
       "8808       The Age of Civil Wars in Europe, c. 1914-1949 2022-09-01   \n",
       "10648  Serving the revolution: educational networks i... 2024-06-01   \n",
       "4161   Power and the Past: European Empires and Archa... 2024-10-01   \n",
       "5018                Political Economies of Refugee Camps 2023-09-01   \n",
       "2350   Empowering the Geopolitical EU in the Eastern ... 2024-06-01   \n",
       "8262   Cold War Europe Beyond Borders. A Transnationa... 2023-01-01   \n",
       "6453   The Game: Counter-mapping informal refugee mob... 2022-11-01   \n",
       "4632   Film Festivals and War: A Fe-Male Perspective ... 2025-02-01   \n",
       "8532   Unde venis? Unraveling the enigma of stećci to... 2024-05-01   \n",
       "\n",
       "         endDate  totalCost  ecMaxContribution   legalBasis  \\\n",
       "8504  2028-02-29  1467800.0         1467800.00  HORIZON.1.1   \n",
       "8808  2027-08-31  2499940.0         2499940.00  HORIZON.1.1   \n",
       "10648 2026-05-31        0.0          173847.36  HORIZON.1.2   \n",
       "4161  2026-09-30        0.0          199440.96  HORIZON.1.2   \n",
       "5018  2025-08-31        0.0          173847.36  HORIZON.1.2   \n",
       "2350  2027-05-31  2999980.0         2999980.00  HORIZON.2.2   \n",
       "8262  2027-12-31  2474330.0         2474330.00  HORIZON.1.1   \n",
       "6453  2027-10-31  2473760.0         2473760.00  HORIZON.1.1   \n",
       "4632  2028-01-31        0.0          280202.88  HORIZON.1.2   \n",
       "8532  2029-04-30  2778380.0         2778380.00  HORIZON.1.1   \n",
       "\n",
       "                                 topics  ... frameworkProgramme  \\\n",
       "8504                       ERC-2022-STG  ...            HORIZON   \n",
       "8808                       ERC-2021-ADG  ...            HORIZON   \n",
       "10648        HORIZON-MSCA-2022-PF-01-01  ...            HORIZON   \n",
       "4161         HORIZON-MSCA-2023-PF-01-01  ...            HORIZON   \n",
       "5018         HORIZON-MSCA-2021-PF-01-01  ...            HORIZON   \n",
       "2350   HORIZON-CL2-2023-DEMOCRACY-01-08  ...            HORIZON   \n",
       "8262                       ERC-2021-ADG  ...            HORIZON   \n",
       "6453                       ERC-2021-ADG  ...            HORIZON   \n",
       "4632         HORIZON-MSCA-2023-PF-01-01  ...            HORIZON   \n",
       "8532                       ERC-2022-COG  ...            HORIZON   \n",
       "\n",
       "                          masterCall                        subCall  \\\n",
       "8504                    ERC-2022-STG                   ERC-2022-STG   \n",
       "8808                    ERC-2021-ADG                   ERC-2021-ADG   \n",
       "10648        HORIZON-MSCA-2022-PF-01        HORIZON-MSCA-2022-PF-01   \n",
       "4161         HORIZON-MSCA-2023-PF-01        HORIZON-MSCA-2023-PF-01   \n",
       "5018         HORIZON-MSCA-2021-PF-01        HORIZON-MSCA-2021-PF-01   \n",
       "2350   HORIZON-CL2-2023-DEMOCRACY-01  HORIZON-CL2-2023-DEMOCRACY-01   \n",
       "8262                    ERC-2021-ADG                   ERC-2021-ADG   \n",
       "6453                    ERC-2021-ADG                   ERC-2021-ADG   \n",
       "4632         HORIZON-MSCA-2023-PF-01        HORIZON-MSCA-2023-PF-01   \n",
       "8532                    ERC-2022-COG                   ERC-2022-COG   \n",
       "\n",
       "                fundingScheme nature  \\\n",
       "8504              HORIZON-ERC    NaN   \n",
       "8808               HORIZON-AG    NaN   \n",
       "10648  HORIZON-TMA-MSCA-PF-EF    NaN   \n",
       "4161   HORIZON-TMA-MSCA-PF-EF    NaN   \n",
       "5018   HORIZON-TMA-MSCA-PF-EF    NaN   \n",
       "2350              HORIZON-RIA    NaN   \n",
       "8262               HORIZON-AG    NaN   \n",
       "6453                      ERC    NaN   \n",
       "4632   HORIZON-TMA-MSCA-PF-GF    NaN   \n",
       "8532              HORIZON-ERC    NaN   \n",
       "\n",
       "                                               objective   contentUpdateDate  \\\n",
       "8504   The project aims to investigate a little-explo... 2023-02-24 16:40:29   \n",
       "8808   In the first half of the twentieth century, Eu... 2022-08-17 19:38:06   \n",
       "10648  My research explores the educational networks ... 2023-07-24 11:33:34   \n",
       "4161   \"This project compares the archaeological rese... 2024-04-29 11:34:30   \n",
       "5018   The camPEconomies project explores a crucial a... 2022-08-26 15:30:12   \n",
       "2350   GEO-POWER-EU's main objective is to contribute... 2024-05-17 09:57:34   \n",
       "8262   \"This project aims to rethink the history of C... 2022-08-02 16:57:16   \n",
       "6453   The Balkan Route is the most important overlan... 2022-10-10 13:50:16   \n",
       "4632   A transdisciplinary project traversing cultura... 2024-04-16 18:34:51   \n",
       "8532   Stećci are medieval tombstones dispersed throu... 2024-01-10 16:26:24   \n",
       "\n",
       "          rcn           grantDoi similarity  \n",
       "8504   244669  10.3030/101077076   0.524238  \n",
       "8808   239893  10.3030/101054647   0.498318  \n",
       "10648  254604  10.3030/101106810   0.489106  \n",
       "4161   263027  10.3030/101149179   0.488710  \n",
       "5018   240252  10.3030/101063876   0.486182  \n",
       "2350   263470  10.3030/101132692   0.459974  \n",
       "8262   238852  10.3030/101054963   0.458768  \n",
       "6453   242402  10.3030/101054428   0.443885  \n",
       "4632   262556  10.3030/101149227   0.436191  \n",
       "8532   257734  10.3030/101089123   0.434567  \n",
       "\n",
       "[10 rows x 21 columns]"
      ]
     },
     "execution_count": 33,
     "metadata": {},
     "output_type": "execute_result"
    }
   ],
   "source": [
    "top_matches"
   ]
  },
  {
   "cell_type": "markdown",
   "id": "49425fc2",
   "metadata": {},
   "source": [
    "## Save Processed data to csv"
   ]
  },
  {
   "cell_type": "code",
   "execution_count": 159,
   "id": "211c11a0",
   "metadata": {},
   "outputs": [],
   "source": [
    "project_merged.to_csv(\"../data_1/processed/project_merged.csv\", index=False)\n"
   ]
  },
  {
   "cell_type": "code",
   "execution_count": 160,
   "id": "18b6e0cf",
   "metadata": {},
   "outputs": [],
   "source": [
    "org_unique_detailed.to_csv(\"../data_1/processed/org_unique_detailed.csv\", index=False)\n"
   ]
  },
  {
   "cell_type": "code",
   "execution_count": 161,
   "id": "5e6eed2b",
   "metadata": {},
   "outputs": [],
   "source": [
    "scivoc_summary.to_csv(\"../data_1/processed/scivoc_summary.csv\", index=False)\n"
   ]
  },
  {
   "cell_type": "markdown",
   "id": "e230494d",
   "metadata": {},
   "source": [
    "## Create model files (vectorise project objectives for searching later)"
   ]
  },
  {
   "cell_type": "code",
   "execution_count": 94,
   "id": "f01aee0b",
   "metadata": {},
   "outputs": [
    {
     "data": {
      "application/vnd.jupyter.widget-view+json": {
       "model_id": "e29b4e852b42424e941cab41466748bb",
       "version_major": 2,
       "version_minor": 0
      },
      "text/plain": [
       "Batches:   0%|          | 0/480 [00:00<?, ?it/s]"
      ]
     },
     "metadata": {},
     "output_type": "display_data"
    }
   ],
   "source": [
    "model = SentenceTransformer(\"all-MiniLM-L6-v2\")\n",
    "\n",
    "objective_texts = project_merged[\"title\"].fillna(\"\") + \" \"+project_merged[\"objective\"].fillna(\"\") + \" \" + project_merged[\"sciVocTopics\"].apply(lambda x: \" \".join(x) if isinstance(x, list) else \"\")\n",
    "\n",
    "project_embeddings = model.encode(objective_texts, show_progress_bar=True)\n",
    "\n",
    "# Save embeddings\n",
    "np.save(\"../models/project_embeddings.npy\", project_embeddings)\n",
    "\n",
    "# Save project IDs for later lookup\n",
    "project_ids = project_merged[\"projectID\"].tolist()\n",
    "with open(\"../models/project_ids.pkl\", \"wb\") as f:\n",
    "    pickle.dump(project_ids, f)\n",
    "\n",
    "# Save the model path\n",
    "with open(\"../models/embedding_model_name.txt\", \"w\") as f:\n",
    "    f.write(\"all-MiniLM-L6-v2\")\n"
   ]
  },
  {
   "cell_type": "code",
   "execution_count": null,
   "id": "75a50ea6",
   "metadata": {},
   "outputs": [],
   "source": []
  }
 ],
 "metadata": {
  "kernelspec": {
   "display_name": "venv",
   "language": "python",
   "name": "python3"
  },
  "language_info": {
   "codemirror_mode": {
    "name": "ipython",
    "version": 3
   },
   "file_extension": ".py",
   "mimetype": "text/x-python",
   "name": "python",
   "nbconvert_exporter": "python",
   "pygments_lexer": "ipython3",
   "version": "3.12.2"
  }
 },
 "nbformat": 4,
 "nbformat_minor": 5
}
